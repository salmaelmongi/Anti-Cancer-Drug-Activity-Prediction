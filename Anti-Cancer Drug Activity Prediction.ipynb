{
  "nbformat": 4,
  "nbformat_minor": 0,
  "metadata": {
    "colab": {
      "provenance": [],
      "collapsed_sections": [
        "W09Zl7j1Oc-r",
        "XuCjDmT9Kagq",
        "GoDpDPZA6-MY",
        "-r0JjzEfanRF",
        "KynBv-M2au-n",
        "1l-EhCOfLtdX",
        "mCGYJZEmMLPO",
        "wP33KvKoR7Fm",
        "GCuJ_uOMVuQ9",
        "T0zW_paMb5I8",
        "8-7HB58Rc7iF",
        "0ca_ncQUdZ5H",
        "876LobdHdlrP",
        "d1NSuoDcesDV",
        "FqkBE6o7fMOg",
        "w3ZVzXh1ftYR",
        "aeNpOjMngG0B"
      ]
    },
    "kernelspec": {
      "name": "python3",
      "display_name": "Python 3"
    },
    "language_info": {
      "name": "python"
    },
    "widgets": {
      "application/vnd.jupyter.widget-state+json": {
        "c12c8b68747f4b9a8b923c65f11a6341": {
          "model_module": "@jupyter-widgets/controls",
          "model_name": "HBoxModel",
          "model_module_version": "1.5.0",
          "state": {
            "_dom_classes": [],
            "_model_module": "@jupyter-widgets/controls",
            "_model_module_version": "1.5.0",
            "_model_name": "HBoxModel",
            "_view_count": null,
            "_view_module": "@jupyter-widgets/controls",
            "_view_module_version": "1.5.0",
            "_view_name": "HBoxView",
            "box_style": "",
            "children": [
              "IPY_MODEL_6f26ad42fe22428cb83953b78c46e63b",
              "IPY_MODEL_ad12a6603c4b48bc8f559f42a6c8cab2",
              "IPY_MODEL_ab2767101b5242289ce9463e364e7ffd"
            ],
            "layout": "IPY_MODEL_7191ec2488fa4fd98c3be356e602fb92"
          }
        },
        "6f26ad42fe22428cb83953b78c46e63b": {
          "model_module": "@jupyter-widgets/controls",
          "model_name": "HTMLModel",
          "model_module_version": "1.5.0",
          "state": {
            "_dom_classes": [],
            "_model_module": "@jupyter-widgets/controls",
            "_model_module_version": "1.5.0",
            "_model_name": "HTMLModel",
            "_view_count": null,
            "_view_module": "@jupyter-widgets/controls",
            "_view_module_version": "1.5.0",
            "_view_name": "HTMLView",
            "description": "",
            "description_tooltip": null,
            "layout": "IPY_MODEL_e32903b553624496aa8071079b77f097",
            "placeholder": "​",
            "style": "IPY_MODEL_658660f113e7467e9986c4e9881504c3",
            "value": "100%"
          }
        },
        "ad12a6603c4b48bc8f559f42a6c8cab2": {
          "model_module": "@jupyter-widgets/controls",
          "model_name": "FloatProgressModel",
          "model_module_version": "1.5.0",
          "state": {
            "_dom_classes": [],
            "_model_module": "@jupyter-widgets/controls",
            "_model_module_version": "1.5.0",
            "_model_name": "FloatProgressModel",
            "_view_count": null,
            "_view_module": "@jupyter-widgets/controls",
            "_view_module_version": "1.5.0",
            "_view_name": "ProgressView",
            "bar_style": "success",
            "description": "",
            "description_tooltip": null,
            "layout": "IPY_MODEL_8d86e53292d14303abe95c486139a87d",
            "max": 25024,
            "min": 0,
            "orientation": "horizontal",
            "style": "IPY_MODEL_bb648044608341eea4a4ce9023b71f2c",
            "value": 25024
          }
        },
        "ab2767101b5242289ce9463e364e7ffd": {
          "model_module": "@jupyter-widgets/controls",
          "model_name": "HTMLModel",
          "model_module_version": "1.5.0",
          "state": {
            "_dom_classes": [],
            "_model_module": "@jupyter-widgets/controls",
            "_model_module_version": "1.5.0",
            "_model_name": "HTMLModel",
            "_view_count": null,
            "_view_module": "@jupyter-widgets/controls",
            "_view_module_version": "1.5.0",
            "_view_name": "HTMLView",
            "description": "",
            "description_tooltip": null,
            "layout": "IPY_MODEL_10190f702feb44358f182d2cdc95659a",
            "placeholder": "​",
            "style": "IPY_MODEL_6e43f121cb3d48a59097ea1f6263462c",
            "value": " 25024/25024 [00:02&lt;00:00, 12442.90it/s]"
          }
        },
        "7191ec2488fa4fd98c3be356e602fb92": {
          "model_module": "@jupyter-widgets/base",
          "model_name": "LayoutModel",
          "model_module_version": "1.2.0",
          "state": {
            "_model_module": "@jupyter-widgets/base",
            "_model_module_version": "1.2.0",
            "_model_name": "LayoutModel",
            "_view_count": null,
            "_view_module": "@jupyter-widgets/base",
            "_view_module_version": "1.2.0",
            "_view_name": "LayoutView",
            "align_content": null,
            "align_items": null,
            "align_self": null,
            "border": null,
            "bottom": null,
            "display": null,
            "flex": null,
            "flex_flow": null,
            "grid_area": null,
            "grid_auto_columns": null,
            "grid_auto_flow": null,
            "grid_auto_rows": null,
            "grid_column": null,
            "grid_gap": null,
            "grid_row": null,
            "grid_template_areas": null,
            "grid_template_columns": null,
            "grid_template_rows": null,
            "height": null,
            "justify_content": null,
            "justify_items": null,
            "left": null,
            "margin": null,
            "max_height": null,
            "max_width": null,
            "min_height": null,
            "min_width": null,
            "object_fit": null,
            "object_position": null,
            "order": null,
            "overflow": null,
            "overflow_x": null,
            "overflow_y": null,
            "padding": null,
            "right": null,
            "top": null,
            "visibility": null,
            "width": null
          }
        },
        "e32903b553624496aa8071079b77f097": {
          "model_module": "@jupyter-widgets/base",
          "model_name": "LayoutModel",
          "model_module_version": "1.2.0",
          "state": {
            "_model_module": "@jupyter-widgets/base",
            "_model_module_version": "1.2.0",
            "_model_name": "LayoutModel",
            "_view_count": null,
            "_view_module": "@jupyter-widgets/base",
            "_view_module_version": "1.2.0",
            "_view_name": "LayoutView",
            "align_content": null,
            "align_items": null,
            "align_self": null,
            "border": null,
            "bottom": null,
            "display": null,
            "flex": null,
            "flex_flow": null,
            "grid_area": null,
            "grid_auto_columns": null,
            "grid_auto_flow": null,
            "grid_auto_rows": null,
            "grid_column": null,
            "grid_gap": null,
            "grid_row": null,
            "grid_template_areas": null,
            "grid_template_columns": null,
            "grid_template_rows": null,
            "height": null,
            "justify_content": null,
            "justify_items": null,
            "left": null,
            "margin": null,
            "max_height": null,
            "max_width": null,
            "min_height": null,
            "min_width": null,
            "object_fit": null,
            "object_position": null,
            "order": null,
            "overflow": null,
            "overflow_x": null,
            "overflow_y": null,
            "padding": null,
            "right": null,
            "top": null,
            "visibility": null,
            "width": null
          }
        },
        "658660f113e7467e9986c4e9881504c3": {
          "model_module": "@jupyter-widgets/controls",
          "model_name": "DescriptionStyleModel",
          "model_module_version": "1.5.0",
          "state": {
            "_model_module": "@jupyter-widgets/controls",
            "_model_module_version": "1.5.0",
            "_model_name": "DescriptionStyleModel",
            "_view_count": null,
            "_view_module": "@jupyter-widgets/base",
            "_view_module_version": "1.2.0",
            "_view_name": "StyleView",
            "description_width": ""
          }
        },
        "8d86e53292d14303abe95c486139a87d": {
          "model_module": "@jupyter-widgets/base",
          "model_name": "LayoutModel",
          "model_module_version": "1.2.0",
          "state": {
            "_model_module": "@jupyter-widgets/base",
            "_model_module_version": "1.2.0",
            "_model_name": "LayoutModel",
            "_view_count": null,
            "_view_module": "@jupyter-widgets/base",
            "_view_module_version": "1.2.0",
            "_view_name": "LayoutView",
            "align_content": null,
            "align_items": null,
            "align_self": null,
            "border": null,
            "bottom": null,
            "display": null,
            "flex": null,
            "flex_flow": null,
            "grid_area": null,
            "grid_auto_columns": null,
            "grid_auto_flow": null,
            "grid_auto_rows": null,
            "grid_column": null,
            "grid_gap": null,
            "grid_row": null,
            "grid_template_areas": null,
            "grid_template_columns": null,
            "grid_template_rows": null,
            "height": null,
            "justify_content": null,
            "justify_items": null,
            "left": null,
            "margin": null,
            "max_height": null,
            "max_width": null,
            "min_height": null,
            "min_width": null,
            "object_fit": null,
            "object_position": null,
            "order": null,
            "overflow": null,
            "overflow_x": null,
            "overflow_y": null,
            "padding": null,
            "right": null,
            "top": null,
            "visibility": null,
            "width": null
          }
        },
        "bb648044608341eea4a4ce9023b71f2c": {
          "model_module": "@jupyter-widgets/controls",
          "model_name": "ProgressStyleModel",
          "model_module_version": "1.5.0",
          "state": {
            "_model_module": "@jupyter-widgets/controls",
            "_model_module_version": "1.5.0",
            "_model_name": "ProgressStyleModel",
            "_view_count": null,
            "_view_module": "@jupyter-widgets/base",
            "_view_module_version": "1.2.0",
            "_view_name": "StyleView",
            "bar_color": null,
            "description_width": ""
          }
        },
        "10190f702feb44358f182d2cdc95659a": {
          "model_module": "@jupyter-widgets/base",
          "model_name": "LayoutModel",
          "model_module_version": "1.2.0",
          "state": {
            "_model_module": "@jupyter-widgets/base",
            "_model_module_version": "1.2.0",
            "_model_name": "LayoutModel",
            "_view_count": null,
            "_view_module": "@jupyter-widgets/base",
            "_view_module_version": "1.2.0",
            "_view_name": "LayoutView",
            "align_content": null,
            "align_items": null,
            "align_self": null,
            "border": null,
            "bottom": null,
            "display": null,
            "flex": null,
            "flex_flow": null,
            "grid_area": null,
            "grid_auto_columns": null,
            "grid_auto_flow": null,
            "grid_auto_rows": null,
            "grid_column": null,
            "grid_gap": null,
            "grid_row": null,
            "grid_template_areas": null,
            "grid_template_columns": null,
            "grid_template_rows": null,
            "height": null,
            "justify_content": null,
            "justify_items": null,
            "left": null,
            "margin": null,
            "max_height": null,
            "max_width": null,
            "min_height": null,
            "min_width": null,
            "object_fit": null,
            "object_position": null,
            "order": null,
            "overflow": null,
            "overflow_x": null,
            "overflow_y": null,
            "padding": null,
            "right": null,
            "top": null,
            "visibility": null,
            "width": null
          }
        },
        "6e43f121cb3d48a59097ea1f6263462c": {
          "model_module": "@jupyter-widgets/controls",
          "model_name": "DescriptionStyleModel",
          "model_module_version": "1.5.0",
          "state": {
            "_model_module": "@jupyter-widgets/controls",
            "_model_module_version": "1.5.0",
            "_model_name": "DescriptionStyleModel",
            "_view_count": null,
            "_view_module": "@jupyter-widgets/base",
            "_view_module_version": "1.2.0",
            "_view_name": "StyleView",
            "description_width": ""
          }
        },
        "90730192dfb74243b204f4e918eaf54d": {
          "model_module": "@jupyter-widgets/controls",
          "model_name": "HBoxModel",
          "model_module_version": "1.5.0",
          "state": {
            "_dom_classes": [],
            "_model_module": "@jupyter-widgets/controls",
            "_model_module_version": "1.5.0",
            "_model_name": "HBoxModel",
            "_view_count": null,
            "_view_module": "@jupyter-widgets/controls",
            "_view_module_version": "1.5.0",
            "_view_name": "HBoxView",
            "box_style": "",
            "children": [
              "IPY_MODEL_2de04d061153490694ffd7a6d96e0267",
              "IPY_MODEL_34103a4c7e6a4662a465edb85757a09a",
              "IPY_MODEL_14a7abb51fc34509b9b4c03debe1e7de"
            ],
            "layout": "IPY_MODEL_9f358a7a41134787ac4f0037495448aa"
          }
        },
        "2de04d061153490694ffd7a6d96e0267": {
          "model_module": "@jupyter-widgets/controls",
          "model_name": "HTMLModel",
          "model_module_version": "1.5.0",
          "state": {
            "_dom_classes": [],
            "_model_module": "@jupyter-widgets/controls",
            "_model_module_version": "1.5.0",
            "_model_name": "HTMLModel",
            "_view_count": null,
            "_view_module": "@jupyter-widgets/controls",
            "_view_module_version": "1.5.0",
            "_view_name": "HTMLView",
            "description": "",
            "description_tooltip": null,
            "layout": "IPY_MODEL_fa7f4423ce834c39bd50b52802cda787",
            "placeholder": "​",
            "style": "IPY_MODEL_780f627c59e549899388fdc4466b1a4f",
            "value": "100%"
          }
        },
        "34103a4c7e6a4662a465edb85757a09a": {
          "model_module": "@jupyter-widgets/controls",
          "model_name": "FloatProgressModel",
          "model_module_version": "1.5.0",
          "state": {
            "_dom_classes": [],
            "_model_module": "@jupyter-widgets/controls",
            "_model_module_version": "1.5.0",
            "_model_name": "FloatProgressModel",
            "_view_count": null,
            "_view_module": "@jupyter-widgets/controls",
            "_view_module_version": "1.5.0",
            "_view_name": "ProgressView",
            "bar_style": "success",
            "description": "",
            "description_tooltip": null,
            "layout": "IPY_MODEL_279622ddb1414d7d859921097300e92a",
            "max": 12326,
            "min": 0,
            "orientation": "horizontal",
            "style": "IPY_MODEL_83da0b65becc44e2b9d146c98ea305f7",
            "value": 12326
          }
        },
        "14a7abb51fc34509b9b4c03debe1e7de": {
          "model_module": "@jupyter-widgets/controls",
          "model_name": "HTMLModel",
          "model_module_version": "1.5.0",
          "state": {
            "_dom_classes": [],
            "_model_module": "@jupyter-widgets/controls",
            "_model_module_version": "1.5.0",
            "_model_name": "HTMLModel",
            "_view_count": null,
            "_view_module": "@jupyter-widgets/controls",
            "_view_module_version": "1.5.0",
            "_view_name": "HTMLView",
            "description": "",
            "description_tooltip": null,
            "layout": "IPY_MODEL_b7a6dfcd85f343abada0ac1aa4b72701",
            "placeholder": "​",
            "style": "IPY_MODEL_c803dd0307e54c4697a275639d0859b5",
            "value": " 12326/12326 [00:00&lt;00:00, 15113.44it/s]"
          }
        },
        "9f358a7a41134787ac4f0037495448aa": {
          "model_module": "@jupyter-widgets/base",
          "model_name": "LayoutModel",
          "model_module_version": "1.2.0",
          "state": {
            "_model_module": "@jupyter-widgets/base",
            "_model_module_version": "1.2.0",
            "_model_name": "LayoutModel",
            "_view_count": null,
            "_view_module": "@jupyter-widgets/base",
            "_view_module_version": "1.2.0",
            "_view_name": "LayoutView",
            "align_content": null,
            "align_items": null,
            "align_self": null,
            "border": null,
            "bottom": null,
            "display": null,
            "flex": null,
            "flex_flow": null,
            "grid_area": null,
            "grid_auto_columns": null,
            "grid_auto_flow": null,
            "grid_auto_rows": null,
            "grid_column": null,
            "grid_gap": null,
            "grid_row": null,
            "grid_template_areas": null,
            "grid_template_columns": null,
            "grid_template_rows": null,
            "height": null,
            "justify_content": null,
            "justify_items": null,
            "left": null,
            "margin": null,
            "max_height": null,
            "max_width": null,
            "min_height": null,
            "min_width": null,
            "object_fit": null,
            "object_position": null,
            "order": null,
            "overflow": null,
            "overflow_x": null,
            "overflow_y": null,
            "padding": null,
            "right": null,
            "top": null,
            "visibility": null,
            "width": null
          }
        },
        "fa7f4423ce834c39bd50b52802cda787": {
          "model_module": "@jupyter-widgets/base",
          "model_name": "LayoutModel",
          "model_module_version": "1.2.0",
          "state": {
            "_model_module": "@jupyter-widgets/base",
            "_model_module_version": "1.2.0",
            "_model_name": "LayoutModel",
            "_view_count": null,
            "_view_module": "@jupyter-widgets/base",
            "_view_module_version": "1.2.0",
            "_view_name": "LayoutView",
            "align_content": null,
            "align_items": null,
            "align_self": null,
            "border": null,
            "bottom": null,
            "display": null,
            "flex": null,
            "flex_flow": null,
            "grid_area": null,
            "grid_auto_columns": null,
            "grid_auto_flow": null,
            "grid_auto_rows": null,
            "grid_column": null,
            "grid_gap": null,
            "grid_row": null,
            "grid_template_areas": null,
            "grid_template_columns": null,
            "grid_template_rows": null,
            "height": null,
            "justify_content": null,
            "justify_items": null,
            "left": null,
            "margin": null,
            "max_height": null,
            "max_width": null,
            "min_height": null,
            "min_width": null,
            "object_fit": null,
            "object_position": null,
            "order": null,
            "overflow": null,
            "overflow_x": null,
            "overflow_y": null,
            "padding": null,
            "right": null,
            "top": null,
            "visibility": null,
            "width": null
          }
        },
        "780f627c59e549899388fdc4466b1a4f": {
          "model_module": "@jupyter-widgets/controls",
          "model_name": "DescriptionStyleModel",
          "model_module_version": "1.5.0",
          "state": {
            "_model_module": "@jupyter-widgets/controls",
            "_model_module_version": "1.5.0",
            "_model_name": "DescriptionStyleModel",
            "_view_count": null,
            "_view_module": "@jupyter-widgets/base",
            "_view_module_version": "1.2.0",
            "_view_name": "StyleView",
            "description_width": ""
          }
        },
        "279622ddb1414d7d859921097300e92a": {
          "model_module": "@jupyter-widgets/base",
          "model_name": "LayoutModel",
          "model_module_version": "1.2.0",
          "state": {
            "_model_module": "@jupyter-widgets/base",
            "_model_module_version": "1.2.0",
            "_model_name": "LayoutModel",
            "_view_count": null,
            "_view_module": "@jupyter-widgets/base",
            "_view_module_version": "1.2.0",
            "_view_name": "LayoutView",
            "align_content": null,
            "align_items": null,
            "align_self": null,
            "border": null,
            "bottom": null,
            "display": null,
            "flex": null,
            "flex_flow": null,
            "grid_area": null,
            "grid_auto_columns": null,
            "grid_auto_flow": null,
            "grid_auto_rows": null,
            "grid_column": null,
            "grid_gap": null,
            "grid_row": null,
            "grid_template_areas": null,
            "grid_template_columns": null,
            "grid_template_rows": null,
            "height": null,
            "justify_content": null,
            "justify_items": null,
            "left": null,
            "margin": null,
            "max_height": null,
            "max_width": null,
            "min_height": null,
            "min_width": null,
            "object_fit": null,
            "object_position": null,
            "order": null,
            "overflow": null,
            "overflow_x": null,
            "overflow_y": null,
            "padding": null,
            "right": null,
            "top": null,
            "visibility": null,
            "width": null
          }
        },
        "83da0b65becc44e2b9d146c98ea305f7": {
          "model_module": "@jupyter-widgets/controls",
          "model_name": "ProgressStyleModel",
          "model_module_version": "1.5.0",
          "state": {
            "_model_module": "@jupyter-widgets/controls",
            "_model_module_version": "1.5.0",
            "_model_name": "ProgressStyleModel",
            "_view_count": null,
            "_view_module": "@jupyter-widgets/base",
            "_view_module_version": "1.2.0",
            "_view_name": "StyleView",
            "bar_color": null,
            "description_width": ""
          }
        },
        "b7a6dfcd85f343abada0ac1aa4b72701": {
          "model_module": "@jupyter-widgets/base",
          "model_name": "LayoutModel",
          "model_module_version": "1.2.0",
          "state": {
            "_model_module": "@jupyter-widgets/base",
            "_model_module_version": "1.2.0",
            "_model_name": "LayoutModel",
            "_view_count": null,
            "_view_module": "@jupyter-widgets/base",
            "_view_module_version": "1.2.0",
            "_view_name": "LayoutView",
            "align_content": null,
            "align_items": null,
            "align_self": null,
            "border": null,
            "bottom": null,
            "display": null,
            "flex": null,
            "flex_flow": null,
            "grid_area": null,
            "grid_auto_columns": null,
            "grid_auto_flow": null,
            "grid_auto_rows": null,
            "grid_column": null,
            "grid_gap": null,
            "grid_row": null,
            "grid_template_areas": null,
            "grid_template_columns": null,
            "grid_template_rows": null,
            "height": null,
            "justify_content": null,
            "justify_items": null,
            "left": null,
            "margin": null,
            "max_height": null,
            "max_width": null,
            "min_height": null,
            "min_width": null,
            "object_fit": null,
            "object_position": null,
            "order": null,
            "overflow": null,
            "overflow_x": null,
            "overflow_y": null,
            "padding": null,
            "right": null,
            "top": null,
            "visibility": null,
            "width": null
          }
        },
        "c803dd0307e54c4697a275639d0859b5": {
          "model_module": "@jupyter-widgets/controls",
          "model_name": "DescriptionStyleModel",
          "model_module_version": "1.5.0",
          "state": {
            "_model_module": "@jupyter-widgets/controls",
            "_model_module_version": "1.5.0",
            "_model_name": "DescriptionStyleModel",
            "_view_count": null,
            "_view_module": "@jupyter-widgets/base",
            "_view_module_version": "1.2.0",
            "_view_name": "StyleView",
            "description_width": ""
          }
        }
      }
    }
  },
  "cells": [
    {
      "cell_type": "markdown",
      "source": [
        "#**Problem Formulation**"
      ],
      "metadata": {
        "id": "W09Zl7j1Oc-r"
      }
    },
    {
      "cell_type": "markdown",
      "source": [
        "**define the problem**\n",
        "* It is a binary classification problem based on the graph data.\n",
        "\n",
        "* The task is to predict the anticancer activity of a chemical compound using the chemical structure of the compound.\n",
        "\n",
        "* The chemical compound can be positive or negative against lung cancer cell and thus labelled as either 0 or 1."
      ],
      "metadata": {
        "id": "XCys5BLJF6zJ"
      }
    },
    {
      "cell_type": "markdown",
      "source": [
        "**Define the input data**\n",
        "\n",
        "* Nodes : Each one contains atoms of the chemical compound in the tokenized form.\n",
        "\n",
        "* Edges : The relation between each node and others.\n",
        "\n",
        "* Node2graph : The input tensor which is used for segmented mean and contains information about segmented ids."
      ],
      "metadata": {
        "id": "VXaJKrvUF_LT"
      }
    },
    {
      "cell_type": "markdown",
      "source": [
        "**Define the output data**\n",
        "\n",
        "* The probability is compound-related if the compound is positive or otherwise negative for non-small cell lung cancer. "
      ],
      "metadata": {
        "id": "Qp6NR9adF_RH"
      }
    },
    {
      "cell_type": "markdown",
      "source": [
        "**What data mining function is required?**\n",
        "\n",
        "Data split.\n",
        "\n",
        "Data plot and visualization.\n",
        "\n",
        "Data Tokenizer.\n",
        "\n",
        "Data Padding.\n",
        "\n",
        "Reshape.\n",
        "\n",
        "Data resample.\n",
        "\n",
        "Data Concat.\n",
        "\n",
        "Embedding and Dense layers."
      ],
      "metadata": {
        "id": "syGmfBM7F_Tz"
      }
    },
    {
      "cell_type": "markdown",
      "source": [
        "**What could be the challenges?**\n",
        "\n",
        "* Since the data contains characters, it must be tokenized and padded.\n",
        "\n",
        "* The data are also imbalanced and the positive class is too small. \n",
        "* This data must be resampled for a good fit. "
      ],
      "metadata": {
        "id": "sS3B92hyF_ZK"
      }
    },
    {
      "cell_type": "markdown",
      "source": [
        "**What is the impact?**\n",
        "\n",
        "Predict anticancer activity and whether a compound is positive for non-small cell lung cancer. "
      ],
      "metadata": {
        "id": "D3xF-3szF_b7"
      }
    },
    {
      "cell_type": "markdown",
      "source": [
        "**What is an ideal solution?**\n",
        "\n",
        "*(Trial 8 With Balanced Data)*\n",
        "\n",
        "using \"message_calculation_class\" ='GNN_FiLM'"
      ],
      "metadata": {
        "id": "DWoKtwUHKaeF"
      }
    },
    {
      "cell_type": "markdown",
      "source": [
        "#**Questions**"
      ],
      "metadata": {
        "id": "XuCjDmT9Kagq"
      }
    },
    {
      "cell_type": "markdown",
      "source": [
        "**Based on the provided template, describe the format of the input file (sdf file).**\n",
        "\n",
        "SDF stands for Structural Data File. The input file contains information about compounds. SDF files store information about the position of individual atoms within a compound and also provide information about the compound.   "
      ],
      "metadata": {
        "id": "-QunFJN6Kaja"
      }
    },
    {
      "cell_type": "markdown",
      "source": [
        "**What are the input tensors to the neural network model (their meaning, not just symbol)? What is each of their dims and their meaning (e.g. batch_size)?**\n",
        "\n",
        "* node: The data contains compound nodes in tokenized form.\n",
        "\n",
        "\n",
        "The shape of each batch is (batch_size*max_len_nodes), where batch_size is the number of samples in the batch and max_len_nodes is the length of tokenized nodes with padding.\n",
        "\n",
        "* edge: edge is the input tensor which contains the relation between atoms.\n",
        "\n",
        "The shape of each batch is (sum_of_all_edges,2). The sum_of_all_edges represents the sum edges of each sample of the batch_size.\n",
        "\n",
        "* node2graph: It is the input tensor which is used for segmented mean and contains information about segmented ids.\n",
        "\n",
        "The shape of each batch is (batch_size*max_len_nodes)."
      ],
      "metadata": {
        "id": "14lLnq3FMbDU"
      }
    },
    {
      "cell_type": "markdown",
      "source": [
        "**For each dim of gnn_out, what does it symbolize? For each dim of avg, what does it symbolize?**\n",
        "\n",
        "gnn_out: It represents the aggregate output of the model for each hidden layer.  \n",
        "\n",
        "avg: This is a method of collecting information for each sample and presenting it in the form of average data. "
      ],
      "metadata": {
        "id": "85b_od7bKao3"
      }
    },
    {
      "cell_type": "markdown",
      "source": [
        "**What is the difference between segment_mean and tf.reduce_mean? For each dim of pred, what does it symbolize?**\n",
        "\n",
        "**segment_mean** takes the mean of the data which have same segmented ids.\n",
        "\n",
        "**reduce_mean** computes the mean of elements across dimensions of a tensor given the arguments.\n",
        "\n",
        "pred The final output shape is a number which represents the probability associated with each chemical compound about its activity."
      ],
      "metadata": {
        "id": "03fw5xqqNhNf"
      }
    },
    {
      "cell_type": "markdown",
      "source": [
        "**What is the motivation/theory/idea to use multiple gcn layers comparing to just one? How many layers were used in the template?**\n",
        "\n",
        "* The default template implements the default setting of the number of layers in the gcn network.\n",
        "* The default layer are 4 as given in the documentaion.\n",
        "* The default message passing method is rgcn (Graph convolution layers).\n",
        "* Using multiple gcn helps in incorporating all the graph complexity properly and thus creates a better model."
      ],
      "metadata": {
        "id": "QNFUe2zpN69X"
      }
    },
    {
      "cell_type": "markdown",
      "source": [
        "#**Meme**"
      ],
      "metadata": {
        "id": "slJ_heNWL7gV"
      }
    },
    {
      "cell_type": "markdown",
      "source": [
        "![WhatsApp Image 2023-04-26 at 12.45.39 PM.jpeg](data:image/jpeg;base64,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)"
      ],
      "metadata": {
        "id": "QZUIE1kmMEl2"
      }
    },
    {
      "cell_type": "markdown",
      "source": [
        "#**installation and importing libraries**\n"
      ],
      "metadata": {
        "id": "GoDpDPZA6-MY"
      }
    },
    {
      "cell_type": "code",
      "source": [
        "!pip install tqdm"
      ],
      "metadata": {
        "colab": {
          "base_uri": "https://localhost:8080/"
        },
        "id": "8uBKbzqyYfj5",
        "outputId": "086e1171-a6b8-490a-eecf-87e51b3abbe0"
      },
      "execution_count": null,
      "outputs": [
        {
          "output_type": "stream",
          "name": "stdout",
          "text": [
            "Looking in indexes: https://pypi.org/simple, https://us-python.pkg.dev/colab-wheels/public/simple/\n",
            "Requirement already satisfied: tqdm in /usr/local/lib/python3.9/dist-packages (4.65.0)\n"
          ]
        }
      ]
    },
    {
      "cell_type": "code",
      "source": [
        "!pip install --quiet networkx"
      ],
      "metadata": {
        "id": "weUIUG9zQgCN"
      },
      "execution_count": null,
      "outputs": []
    },
    {
      "cell_type": "code",
      "source": [
        "!pip install --quiet tf2_gnn"
      ],
      "metadata": {
        "id": "UaxNT4ktQveh"
      },
      "execution_count": null,
      "outputs": []
    },
    {
      "cell_type": "code",
      "source": [
        "from tqdm.notebook import tqdm \n",
        "import numpy as np\n",
        "import pandas as pd \n",
        "import math\n",
        "from sklearn.model_selection import train_test_split\n",
        "import networkx as nx\n",
        "import matplotlib.pyplot as plt\n",
        "from matplotlib import cm\n",
        "from tensorflow.keras.preprocessing.text import Tokenizer\n",
        "import random\n",
        "from tensorflow.keras.preprocessing.sequence import pad_sequences\n",
        "from tf2_gnn.layers.gnn import GNN, GNNInput\n",
        "#importing tensorflow and other libraries\n",
        "import tensorflow as tf\n",
        "from tensorflow.math import segment_mean #to calculate segmented mean\n",
        "from tensorflow import keras\n",
        "from tensorflow.keras import Input, Model #layers and model\n",
        "from tensorflow.keras.layers import Embedding, Dense #layers\n",
        "from tensorflow.keras.optimizers import Adam #optimizer\n",
        "#importing GGNN,RGCN,RGAT,RGIN,GNN-Edge-MLP,GNN-FiLM\n",
        "from  tf2_gnn.layers.message_passing import rgat,rgin,rgcn,gnn_film,ggnn,gnn_edge_mlp"
      ],
      "metadata": {
        "id": "GVBt1NA_ZMxL"
      },
      "execution_count": null,
      "outputs": []
    },
    {
      "cell_type": "markdown",
      "source": [
        "#**Read SDF format data (structured-data format)**\n"
      ],
      "metadata": {
        "id": "-r0JjzEfanRF"
      }
    },
    {
      "cell_type": "code",
      "source": [
        "# fun. to read sdf file, the chemical composition of a molecule is saved as (structure data file)\n",
        "def read_sdf(file):\n",
        "    with open(file, 'r') as rf:   #opening the file\n",
        "        content = rf.read()       #reading the contents of the file\n",
        "    # Split the read file by delimiter $$$$ thus splitting each molecule in an array\n",
        "    samples = content.split('$$$$') \n",
        "    \n",
        "    #fun. to read each molecule configuration\n",
        "    def parse_sample(s):\n",
        "        lines = s.splitlines()    #splitting the text data to lines\n",
        "        links = []                #empty array for links\n",
        "        nodes = []                #empty array for nodes\n",
        "        label = 0\n",
        "        #loop over each line\n",
        "        for l in lines:           \n",
        "            if l.strip() == '1.0':\n",
        "                label = 1\n",
        "            if l.strip() == '-1.0':\n",
        "                label = 0\n",
        "            # for Atom block \n",
        "            if l.startswith('    '):   \n",
        "                feature = l.split()\n",
        "                #node feature (atom) as O,C etc.\n",
        "                node = feature[3] \n",
        "                #appending nodes    \n",
        "                nodes.append(node) \n",
        "            # bond block tells about connections between atoms   \n",
        "            elif l.startswith(' '):   \n",
        "                # splitting line\n",
        "                lnk = l.split()       \n",
        "                # edge: (from, to,) (1-based index)\n",
        "                if int(lnk[0]) - 1 < len(nodes):\n",
        "                    #appending links\n",
        "                    links.append((int(lnk[0])-1, int(lnk[1])-1,))\n",
        "        return nodes, np.array(links), label #return nodes, links and label\n",
        "    # parse_sample for each molecule\n",
        "    return [parse_sample(s) for s in tqdm(samples) if len(s[0]) > 0]"
      ],
      "metadata": {
        "id": "VZBP8nd4Ijld"
      },
      "execution_count": null,
      "outputs": []
    },
    {
      "cell_type": "code",
      "source": [
        "#load the training data\n",
        "training_set = read_sdf(\"/content/train.sdf\")\n",
        "#load the testing data\n",
        "testing_set = read_sdf('/content/test_x.sdf')"
      ],
      "metadata": {
        "colab": {
          "base_uri": "https://localhost:8080/",
          "height": 81,
          "referenced_widgets": [
            "c12c8b68747f4b9a8b923c65f11a6341",
            "6f26ad42fe22428cb83953b78c46e63b",
            "ad12a6603c4b48bc8f559f42a6c8cab2",
            "ab2767101b5242289ce9463e364e7ffd",
            "7191ec2488fa4fd98c3be356e602fb92",
            "e32903b553624496aa8071079b77f097",
            "658660f113e7467e9986c4e9881504c3",
            "8d86e53292d14303abe95c486139a87d",
            "bb648044608341eea4a4ce9023b71f2c",
            "10190f702feb44358f182d2cdc95659a",
            "6e43f121cb3d48a59097ea1f6263462c",
            "90730192dfb74243b204f4e918eaf54d",
            "2de04d061153490694ffd7a6d96e0267",
            "34103a4c7e6a4662a465edb85757a09a",
            "14a7abb51fc34509b9b4c03debe1e7de",
            "9f358a7a41134787ac4f0037495448aa",
            "fa7f4423ce834c39bd50b52802cda787",
            "780f627c59e549899388fdc4466b1a4f",
            "279622ddb1414d7d859921097300e92a",
            "83da0b65becc44e2b9d146c98ea305f7",
            "b7a6dfcd85f343abada0ac1aa4b72701",
            "c803dd0307e54c4697a275639d0859b5"
          ]
        },
        "id": "CCXbBSgLCmIf",
        "outputId": "4ac23879-bfdb-4f98-941e-960c5fc3d383"
      },
      "execution_count": null,
      "outputs": [
        {
          "output_type": "display_data",
          "data": {
            "text/plain": [
              "  0%|          | 0/25024 [00:00<?, ?it/s]"
            ],
            "application/vnd.jupyter.widget-view+json": {
              "version_major": 2,
              "version_minor": 0,
              "model_id": "c12c8b68747f4b9a8b923c65f11a6341"
            }
          },
          "metadata": {}
        },
        {
          "output_type": "display_data",
          "data": {
            "text/plain": [
              "  0%|          | 0/12326 [00:00<?, ?it/s]"
            ],
            "application/vnd.jupyter.widget-view+json": {
              "version_major": 2,
              "version_minor": 0,
              "model_id": "90730192dfb74243b204f4e918eaf54d"
            }
          },
          "metadata": {}
        }
      ]
    },
    {
      "cell_type": "code",
      "source": [
        "#splitting the train data into training set and validation set by 85 to 15 \n",
        "training_set, validation_set = train_test_split(training_set, test_size=0.15,)"
      ],
      "metadata": {
        "id": "MOyMUlhJIp1f"
      },
      "execution_count": null,
      "outputs": []
    },
    {
      "cell_type": "code",
      "source": [
        "#print index 1 in the training set\n",
        "print(training_set[1])"
      ],
      "metadata": {
        "colab": {
          "base_uri": "https://localhost:8080/"
        },
        "id": "KmP9gsJNJrp7",
        "outputId": "624a9ff6-d113-435f-a1c6-49a37f895795"
      },
      "execution_count": null,
      "outputs": [
        {
          "output_type": "stream",
          "name": "stdout",
          "text": [
            "(['O', 'O', 'O', 'N', 'C', 'C', 'C', 'C', 'C', 'C', 'C', 'C', 'C', 'C', 'C', 'C', 'C', 'C', 'C'], array([[ 0,  4],\n",
            "       [ 0,  6],\n",
            "       [ 1,  3],\n",
            "       [ 2,  3],\n",
            "       [ 3,  5],\n",
            "       [ 4,  5],\n",
            "       [ 4,  8],\n",
            "       [ 5,  9],\n",
            "       [ 6,  7],\n",
            "       [ 6, 10],\n",
            "       [ 7,  9],\n",
            "       [ 7, 11],\n",
            "       [ 8, 12],\n",
            "       [ 8, 13],\n",
            "       [10, 14],\n",
            "       [11, 15],\n",
            "       [12, 16],\n",
            "       [13, 17],\n",
            "       [14, 15],\n",
            "       [16, 18],\n",
            "       [17, 18]]), 0)\n"
          ]
        }
      ]
    },
    {
      "cell_type": "markdown",
      "source": [
        "#**Visualizing/Inspecting a Sample**\n",
        "\n",
        "Data are included in the training set for each sample (molecule). Three elements are present in each sample array. The first element gives textual information about atoms, the second element gives textual information about compounds, and the third element gives textual information about the labels of each molecule. \n"
      ],
      "metadata": {
        "id": "KynBv-M2au-n"
      }
    },
    {
      "cell_type": "code",
      "source": [
        "#importing libraries for displaying network of molecule\n",
        "colors = cm.rainbow(np.linspace(0, 1, 50))"
      ],
      "metadata": {
        "id": "iT2m4fY2KTMW"
      },
      "execution_count": null,
      "outputs": []
    },
    {
      "cell_type": "code",
      "source": [
        "#method to visualize the compound graph\n",
        "#atoms are given as nodes\n",
        "#the connections are defined as edges\n",
        "def visualize(sample):\n",
        "#initiating an instance of Graph\n",
        "    Gr=nx.Graph() \n",
        "#atoms as nodes\n",
        "    nodes = sample[0] \n",
        "#connections as edges\n",
        "    edges = sample[1] \n",
        "#empty dictionary for labels for the nodes\n",
        "    labeldict={} \n",
        "#empty array for each node color\n",
        "    node_color=[] \n",
        "#for each node in the sample\n",
        "    for i,n in enumerate(nodes): \n",
        "#adding node to the graph each node as (0,1,2,3..)\n",
        "        Gr.add_node(i)   \n",
        "#dictionary building with [key,value] as [0:'C']\n",
        "        labeldict[i]=n  \n",
        "#print(i)\n",
        "#print(n)\n",
        "#color coding\n",
        "        node_color.append(colors[hash(n)%len(colors)]) \n",
        "\n",
        "# a list of nodes:\n",
        "#for each edge\n",
        "    for e in edges:\n",
        "#adding egde to the graph from one connection to other connection\n",
        "        Gr.add_edge(e[0], e[1]) \n",
        "#drawing the graph with labels for nodes as atoms and connections as edges    \n",
        "    nx.draw(Gr, labels=labeldict, with_labels = True, node_color = node_color)\n",
        "    plt.show()\n",
        "#returns graph\n",
        "    return Gr\n",
        "     "
      ],
      "metadata": {
        "id": "N9HiKQ0bJ-25"
      },
      "execution_count": null,
      "outputs": []
    },
    {
      "cell_type": "code",
      "source": [
        "#displaying one sample\n",
        "plt.clf()\n",
        "visualize(training_set[0])"
      ],
      "metadata": {
        "colab": {
          "base_uri": "https://localhost:8080/",
          "height": 533
        },
        "id": "Xv-zm_8qKa3k",
        "outputId": "86c75056-bea4-4615-e711-c9f64b512d02"
      },
      "execution_count": null,
      "outputs": [
        {
          "output_type": "display_data",
          "data": {
            "text/plain": [
              "<Figure size 640x480 with 1 Axes>"
            ],
            "image/png": "[encoded data removed]"
          },
          "metadata": {}
        },
        {
          "output_type": "execute_result",
          "data": {
            "text/plain": [
              "<networkx.classes.graph.Graph at 0x7f584fa25ac0>"
            ]
          },
          "metadata": {},
          "execution_count": 19
        }
      ]
    },
    {
      "cell_type": "markdown",
      "source": [
        "#**Preprocessing**"
      ],
      "metadata": {
        "id": "1l-EhCOfLtdX"
      }
    },
    {
      "cell_type": "code",
      "source": [
        "max_vocab = 500\n",
        "max_len = 100\n",
        "# build vocabulary from training set\n",
        "all_nodes = [s[0] for s in training_set]\n",
        "tokenizer = Tokenizer(num_words=max_vocab)\n",
        "tokenizer.fit_on_texts(all_nodes)"
      ],
      "metadata": {
        "id": "1pB02gphLrPv"
      },
      "execution_count": null,
      "outputs": []
    },
    {
      "cell_type": "code",
      "source": [
        "random.seed(10)\n",
        "\n",
        "#method to prepare single batch set\n",
        "#samples represents the batch of data\n",
        "def prepare_single_batch(samples):\n",
        " #nodes characters array\n",
        "    sample_nodes = [s[0] for s in samples]  \n",
        "#tokenizing the sample nodes                   \n",
        "    sample_nodes = tokenizer.texts_to_sequences(sample_nodes)   \n",
        "#pad_sequences for each sample node with post padding\n",
        "    sample_nodes = pad_sequences(sample_nodes, padding='post')  \n",
        "#maximum length of nodes \n",
        "    max_nodes_len = np.shape(sample_nodes)[1]                   \n",
        "#defining edges\n",
        "    edges = [s[1]+i*max_nodes_len for i,s in enumerate(samples)] \n",
        "    edges = [e for e in edges if len(e) > 0]\n",
        "#array definition for segmented_ids\n",
        "    node_to_graph = [[i]*max_nodes_len for i in range(len(samples))]  \n",
        "#reshaping as 1 vector\n",
        "    all_nodes = np.reshape(sample_nodes, -1)  \n",
        "#concatenating all the edges as size [total_edges ,2]\n",
        "    all_edges = np.concatenate(edges)         \n",
        "\n",
        "    node_to_graph = np.reshape(node_to_graph, -1)\n",
        "#returns a dictionary of features(data,edges,node2grah) and label\n",
        "    return {\n",
        "        'data': all_nodes,\n",
        "        'edges': all_edges,\n",
        "        'node2grah': node_to_graph,\n",
        "    }, np.array([s[2] for s in samples]) \n",
        "\n",
        "#generating batch with given btch_size\n",
        "def gen_batch(dataset, batch_size=16, repeat=False, shuffle=True):\n",
        " #infinity loop\n",
        "    while True:                \n",
        "#data in the array\n",
        "        dataset = list(dataset) \n",
        "# if shuffle is True\n",
        "        if shuffle:             \n",
        "#randomly shuffling\n",
        "            random.shuffle(dataset) \n",
        "#length of dataset\n",
        "        l = len(dataset)  \n",
        "#loop for  creating batches from given dataset\n",
        "        for ndx in range(0, l, batch_size):  \n",
        "#creating batch samples with given batch_size\n",
        "            batch_samples = dataset[ndx:min(ndx + batch_size, l)] \n",
        "#returning a generator with prepared batches\n",
        "            yield prepare_single_batch(batch_samples)  \n",
        "#breaking loop if repeat is false \n",
        "        if not repeat:  \n",
        "            break\n"
      ],
      "metadata": {
        "id": "jOCFXCzCLz-G"
      },
      "execution_count": null,
      "outputs": []
    },
    {
      "cell_type": "code",
      "source": [
        "# showing one batch:\n",
        "for train_batch in gen_batch(training_set, batch_size=4):\n",
        "    for k,v in train_batch[0].items():\n",
        "        print(k)\n",
        "        print(v)\n",
        "        pass\n",
        "    print('label', train_batch[1])\n",
        "    break"
      ],
      "metadata": {
        "colab": {
          "base_uri": "https://localhost:8080/"
        },
        "id": "hmTFB4ErL7Jt",
        "outputId": "a2a50c55-6e1f-49f2-f815-79df10273c8d"
      },
      "execution_count": null,
      "outputs": [
        {
          "output_type": "stream",
          "name": "stdout",
          "text": [
            "data\n",
            "[2 2 3 3 3 3 3 1 1 1 1 1 1 1 1 1 1 1 1 1 1 1 1 1 1 1 1 1 1 1 4 4 2 2 2 3 3\n",
            " 3 3 1 1 1 1 1 1 1 1 1 1 1 1 1 1 1 1 0 0 0 0 0 4 4 2 2 2 2 3 3 3 3 1 1 1 1\n",
            " 1 1 1 1 1 1 1 1 1 1 0 0 0 0 0 0 4 2 2 3 3 3 3 3 1 1 1 1 1 1 1 1 1 1 1 1 1\n",
            " 1 0 0 0 0 0 0 0 0]\n",
            "edges\n",
            "[[  0  15]\n",
            " [  1  25]\n",
            " [  1  29]\n",
            " [  2   7]\n",
            " [  2   8]\n",
            " [  2   9]\n",
            " [  3   8]\n",
            " [  3  11]\n",
            " [  4   8]\n",
            " [  4  12]\n",
            " [  5  11]\n",
            " [  5  20]\n",
            " [  5  21]\n",
            " [  6  26]\n",
            " [  6  27]\n",
            " [  6  28]\n",
            " [  7  10]\n",
            " [  7  13]\n",
            " [  9  12]\n",
            " [  9  14]\n",
            " [ 10  11]\n",
            " [ 10  15]\n",
            " [ 12  16]\n",
            " [ 13  17]\n",
            " [ 13  18]\n",
            " [ 14  19]\n",
            " [ 16  22]\n",
            " [ 17  23]\n",
            " [ 18  24]\n",
            " [ 19  22]\n",
            " [ 20  26]\n",
            " [ 21  27]\n",
            " [ 23  25]\n",
            " [ 24  25]\n",
            " [ 30  39]\n",
            " [ 30  40]\n",
            " [ 31  45]\n",
            " [ 31  46]\n",
            " [ 32  41]\n",
            " [ 33  44]\n",
            " [ 34  48]\n",
            " [ 34  54]\n",
            " [ 35  40]\n",
            " [ 35  41]\n",
            " [ 36  37]\n",
            " [ 36  40]\n",
            " [ 37  45]\n",
            " [ 38  45]\n",
            " [ 38  47]\n",
            " [ 39  41]\n",
            " [ 39  43]\n",
            " [ 42  43]\n",
            " [ 42  44]\n",
            " [ 42  49]\n",
            " [ 44  48]\n",
            " [ 46  47]\n",
            " [ 46  52]\n",
            " [ 47  53]\n",
            " [ 48  50]\n",
            " [ 49  51]\n",
            " [ 50  51]\n",
            " [ 60  72]\n",
            " [ 60  73]\n",
            " [ 61  78]\n",
            " [ 62  71]\n",
            " [ 63  76]\n",
            " [ 64  75]\n",
            " [ 65  77]\n",
            " [ 66  72]\n",
            " [ 66  74]\n",
            " [ 67  72]\n",
            " [ 67  77]\n",
            " [ 68  75]\n",
            " [ 68  78]\n",
            " [ 69  76]\n",
            " [ 69  78]\n",
            " [ 70  71]\n",
            " [ 70  75]\n",
            " [ 70  76]\n",
            " [ 71  77]\n",
            " [ 73  74]\n",
            " [ 73  79]\n",
            " [ 74  80]\n",
            " [ 79  81]\n",
            " [ 80  82]\n",
            " [ 81  82]\n",
            " [ 81  83]\n",
            " [ 90  91]\n",
            " [ 90  92]\n",
            " [ 90  98]\n",
            " [ 90 102]\n",
            " [ 93  99]\n",
            " [ 93 101]\n",
            " [ 93 103]\n",
            " [ 94  95]\n",
            " [ 94  99]\n",
            " [ 95 102]\n",
            " [ 96 107]\n",
            " [ 96 109]\n",
            " [ 97 105]\n",
            " [ 98  99]\n",
            " [ 98 100]\n",
            " [100 101]\n",
            " [100 104]\n",
            " [101 106]\n",
            " [102 105]\n",
            " [103 107]\n",
            " [107 108]\n",
            " [108 110]\n",
            " [109 111]\n",
            " [110 111]]\n",
            "node2grah\n",
            "[0 0 0 0 0 0 0 0 0 0 0 0 0 0 0 0 0 0 0 0 0 0 0 0 0 0 0 0 0 0 1 1 1 1 1 1 1\n",
            " 1 1 1 1 1 1 1 1 1 1 1 1 1 1 1 1 1 1 1 1 1 1 1 2 2 2 2 2 2 2 2 2 2 2 2 2 2\n",
            " 2 2 2 2 2 2 2 2 2 2 2 2 2 2 2 2 3 3 3 3 3 3 3 3 3 3 3 3 3 3 3 3 3 3 3 3 3\n",
            " 3 3 3 3 3 3 3 3 3]\n",
            "label [0 0 0 0]\n"
          ]
        }
      ]
    },
    {
      "cell_type": "markdown",
      "source": [
        "#**Trial 1**\n",
        "\n",
        "in this trial didn't change in the template so the accurracy between 70 and 80 % so will change the hyperparameaters in the next trials and recheck the performance.\n",
        "\n",
        "*the accuracy on kaggle : 78.9%*"
      ],
      "metadata": {
        "id": "mCGYJZEmMLPO"
      }
    },
    {
      "cell_type": "code",
      "source": [
        "#Input layer for nodes (tokenized text data) \n",
        "data = keras.Input(batch_shape=(None,))             \n",
        "\n",
        "# the first dimension is different to the previous one. it is the total number of edges in this batch\n",
        "#Input layer for edge data         \n",
        "edge = keras.Input(batch_shape=(None, 2), dtype=tf.int32)  \n",
        "#Input layer for node2graph ids    \n",
        "node2graph = keras.Input(batch_shape=(None,), dtype=tf.int32) \n",
        "#embedding layer over data with each token embedded as  size vector \n",
        "embeded = Embedding(tokenizer.num_words, 100)(data)  \n",
        "# number of graphs (number of samples)\n",
        "#calculating number of samples (or min(batch_size,no._of_samples))    \n",
        "num_graph = tf.reduce_max(node2graph)+1  \n",
        "#gnn_input layer with inputs as defined above\n",
        "gnn_input = GNNInput(\n",
        "    node_features=embeded,\n",
        "    adjacency_lists=(edge,),\n",
        "    node_to_graph_map=node2graph, \n",
        "    num_graphs=num_graph,\n",
        ")\n",
        "#defining hyperparameters for GNN layer\n",
        "params = GNN.get_default_hyperparameters()\n",
        "#defining hidden dimension of the gnn layer\n",
        "#sets the size of the output of all message passing layers.\n",
        "params[\"hidden_dim\"] = 40  \n",
        "#gnn layer with defined hyperparameters\n",
        "gnn_layer = GNN(params)  \n",
        "#gnn output layer \n",
        "#outpur shape: [data_dimension,hidden layers]   \n",
        "gnn_out = gnn_layer(gnn_input) \n",
        "print('gnn_out', gnn_out)           \n",
        "#calculating segmented mean based on segment_ids\n",
        "avg = segment_mean(\n",
        "    data=gnn_out,\n",
        "    segment_ids=node2graph\n",
        "    ) #shape: [batch_size,64]  \n",
        "\n",
        "print('mean:', avg)\n",
        "\n",
        "#final dense layer with sigmoid\n",
        "#output shape: [batch_size,1]\n",
        "pred = Dense(1, activation='sigmoid')(avg)  \n",
        "print('pred:', pred)\n",
        "\n",
        "#building model \n",
        "#inputs are data,edges and node2graph\n",
        "#input: dictionary\n",
        "#output: prediction value from dense layer\n",
        "model = Model(\n",
        "    inputs={\n",
        "        'data': data, \n",
        "        'edges': edge,\n",
        "        'node2grah': node2graph,\n",
        "    },\n",
        "    outputs=pred\n",
        ")\n",
        "\n",
        "#printing summary of the model\n",
        "model.summary()"
      ],
      "metadata": {
        "colab": {
          "base_uri": "https://localhost:8080/"
        },
        "id": "ZyADVRfbMGvr",
        "outputId": "d5223e57-ea6a-4ce4-fb21-0a6be0b9cf46"
      },
      "execution_count": null,
      "outputs": [
        {
          "output_type": "stream",
          "name": "stdout",
          "text": [
            "gnn_out KerasTensor(type_spec=TensorSpec(shape=(None, 40), dtype=tf.float32, name=None), name='gnn/StatefulPartitionedCall:0', description=\"created by layer 'gnn'\")\n",
            "mean: KerasTensor(type_spec=TensorSpec(shape=(None, 40), dtype=tf.float32, name=None), name='tf.math.segment_mean/SegmentMean:0', description=\"created by layer 'tf.math.segment_mean'\")\n",
            "pred: KerasTensor(type_spec=TensorSpec(shape=(None, 1), dtype=tf.float32, name=None), name='dense/Sigmoid:0', description=\"created by layer 'dense'\")\n",
            "Model: \"model\"\n",
            "__________________________________________________________________________________________________\n",
            " Layer (type)                   Output Shape         Param #     Connected to                     \n",
            "==================================================================================================\n",
            " input_3 (InputLayer)           [(None,)]            0           []                               \n",
            "                                                                                                  \n",
            " input_1 (InputLayer)           [(None,)]            0           []                               \n",
            "                                                                                                  \n",
            " tf.math.reduce_max (TFOpLambda  ()                  0           ['input_3[0][0]']                \n",
            " )                                                                                                \n",
            "                                                                                                  \n",
            " embedding (Embedding)          (None, 100)          50000       ['input_1[0][0]']                \n",
            "                                                                                                  \n",
            " input_2 (InputLayer)           [(None, 2)]          0           []                               \n",
            "                                                                                                  \n",
            " tf.__operators__.add (TFOpLamb  ()                  0           ['tf.math.reduce_max[0][0]']     \n",
            " da)                                                                                              \n",
            "                                                                                                  \n",
            " gnn (GNN)                      (None, 40)           35440       ['embedding[0][0]',              \n",
            "                                                                  'input_2[0][0]',                \n",
            "                                                                  'input_3[0][0]',                \n",
            "                                                                  'tf.__operators__.add[0][0]']   \n",
            "                                                                                                  \n",
            " tf.math.segment_mean (TFOpLamb  (None, 40)          0           ['gnn[0][0]',                    \n",
            " da)                                                              'input_3[0][0]']                \n",
            "                                                                                                  \n",
            " dense (Dense)                  (None, 1)            41          ['tf.math.segment_mean[0][0]']   \n",
            "                                                                                                  \n",
            "==================================================================================================\n",
            "Total params: 85,481\n",
            "Trainable params: 85,481\n",
            "Non-trainable params: 0\n",
            "__________________________________________________________________________________________________\n"
          ]
        }
      ]
    },
    {
      "cell_type": "markdown",
      "source": [
        "**Compile The Model**\n"
      ],
      "metadata": {
        "id": "XMPP9zSCMnrW"
      }
    },
    {
      "cell_type": "code",
      "source": [
        "#compile the model by usnig adam as optimizer and using binarycrossentropy for calculate the loss and check the acc by AUC \n",
        "model.compile( optimizer='adam',loss='BinaryCrossentropy',metrics=['AUC'])"
      ],
      "metadata": {
        "id": "pztKBbvCMiU6"
      },
      "execution_count": null,
      "outputs": []
    },
    {
      "cell_type": "markdown",
      "source": [
        "**Train The Model**\n"
      ],
      "metadata": {
        "id": "L2nzDzmhMvfJ"
      }
    },
    {
      "cell_type": "code",
      "source": [
        "batch_size = 8\n",
        "#math.ceil: returns the smallest integral value greater than the number\n",
        "#no. of batches for training data\n",
        "num_batchs = math.ceil(len(training_set) / batch_size)\n",
        "#no. of batches for validation data\n",
        "num_batchs_validation = math.ceil(len(validation_set) / batch_size)\n",
        "#train our model \n",
        "model.fit(gen_batch(training_set, batch_size=batch_size, repeat=True),\n",
        "          steps_per_epoch=num_batchs,epochs=20,validation_data=gen_batch(validation_set, batch_size=16, repeat=True),\n",
        "          validation_steps=num_batchs_validation)"
      ],
      "metadata": {
        "colab": {
          "base_uri": "https://localhost:8080/"
        },
        "id": "duEEP4aVMuhx",
        "outputId": "e5a27ef5-6eeb-4657-ed2b-463728adbbbf"
      },
      "execution_count": null,
      "outputs": [
        {
          "output_type": "stream",
          "name": "stdout",
          "text": [
            "Epoch 1/20\n",
            "2659/2659 [==============================] - 36s 14ms/step - loss: 0.1999 - auc: 0.5694 - val_loss: 0.2124 - val_auc: 0.6441\n",
            "Epoch 2/20\n",
            "2659/2659 [==============================] - 43s 16ms/step - loss: 0.1851 - auc: 0.6673 - val_loss: 0.1999 - val_auc: 0.6997\n",
            "Epoch 3/20\n",
            "2659/2659 [==============================] - 38s 14ms/step - loss: 0.1815 - auc: 0.6900 - val_loss: 0.1899 - val_auc: 0.7225\n",
            "Epoch 4/20\n",
            "2659/2659 [==============================] - 42s 16ms/step - loss: 0.1775 - auc: 0.7152 - val_loss: 0.1905 - val_auc: 0.7222\n",
            "Epoch 5/20\n",
            "2659/2659 [==============================] - 50s 19ms/step - loss: 0.1735 - auc: 0.7411 - val_loss: 0.2036 - val_auc: 0.7508\n",
            "Epoch 6/20\n",
            "2659/2659 [==============================] - 41s 15ms/step - loss: 0.1716 - auc: 0.7526 - val_loss: 0.1810 - val_auc: 0.7656\n",
            "Epoch 7/20\n",
            "2659/2659 [==============================] - 39s 15ms/step - loss: 0.1698 - auc: 0.7572 - val_loss: 0.1827 - val_auc: 0.7610\n",
            "Epoch 8/20\n",
            "2659/2659 [==============================] - 44s 17ms/step - loss: 0.1679 - auc: 0.7643 - val_loss: 0.1827 - val_auc: 0.7499\n",
            "Epoch 9/20\n",
            "2659/2659 [==============================] - 44s 17ms/step - loss: 0.1675 - auc: 0.7664 - val_loss: 0.1823 - val_auc: 0.7609\n",
            "Epoch 10/20\n",
            "2659/2659 [==============================] - 42s 16ms/step - loss: 0.1670 - auc: 0.7671 - val_loss: 0.1835 - val_auc: 0.7586\n",
            "Epoch 11/20\n",
            "2659/2659 [==============================] - 48s 18ms/step - loss: 0.1662 - auc: 0.7736 - val_loss: 0.1934 - val_auc: 0.7699\n",
            "Epoch 12/20\n",
            "2659/2659 [==============================] - 46s 17ms/step - loss: 0.1644 - auc: 0.7819 - val_loss: 0.1837 - val_auc: 0.7511\n",
            "Epoch 13/20\n",
            "2659/2659 [==============================] - 40s 15ms/step - loss: 0.1646 - auc: 0.7815 - val_loss: 0.1836 - val_auc: 0.7624\n",
            "Epoch 14/20\n",
            "2659/2659 [==============================] - 51s 19ms/step - loss: 0.1630 - auc: 0.7885 - val_loss: 0.1819 - val_auc: 0.7578\n",
            "Epoch 15/20\n",
            "2659/2659 [==============================] - 45s 17ms/step - loss: 0.1641 - auc: 0.7853 - val_loss: 0.1824 - val_auc: 0.7667\n",
            "Epoch 16/20\n",
            "2659/2659 [==============================] - 53s 20ms/step - loss: 0.1625 - auc: 0.7865 - val_loss: 0.1814 - val_auc: 0.7764\n",
            "Epoch 17/20\n",
            "2659/2659 [==============================] - 37s 14ms/step - loss: 0.1617 - auc: 0.7920 - val_loss: 0.1782 - val_auc: 0.7642\n",
            "Epoch 18/20\n",
            "2659/2659 [==============================] - 37s 14ms/step - loss: 0.1605 - auc: 0.8015 - val_loss: 0.1776 - val_auc: 0.7773\n",
            "Epoch 19/20\n",
            "2659/2659 [==============================] - 35s 13ms/step - loss: 0.1607 - auc: 0.7957 - val_loss: 0.1799 - val_auc: 0.7732\n",
            "Epoch 20/20\n",
            "2659/2659 [==============================] - 36s 13ms/step - loss: 0.1593 - auc: 0.8023 - val_loss: 0.1799 - val_auc: 0.7801\n"
          ]
        },
        {
          "output_type": "execute_result",
          "data": {
            "text/plain": [
              "<keras.callbacks.History at 0x7f39dc936df0>"
            ]
          },
          "metadata": {},
          "execution_count": 20
        }
      ]
    },
    {
      "cell_type": "markdown",
      "source": [
        "**Predictoin And Submission**\n"
      ],
      "metadata": {
        "id": "mu8SzEiYRnIB"
      }
    },
    {
      "cell_type": "code",
      "source": [
        "#make prediction on test data by using the trained model \n",
        "y_pred = model.predict(gen_batch(testing_set, batch_size=16, shuffle=False))\n",
        "y_pred = np.reshape(y_pred, -1)"
      ],
      "metadata": {
        "colab": {
          "base_uri": "https://localhost:8080/"
        },
        "id": "NEZeYMJuM6fU",
        "outputId": "737c8da8-1772-439e-94e6-0d23abb6cdfd"
      },
      "execution_count": null,
      "outputs": [
        {
          "output_type": "stream",
          "name": "stdout",
          "text": [
            "771/771 [==============================] - 7s 9ms/step\n"
          ]
        }
      ]
    },
    {
      "cell_type": "code",
      "source": [
        "len(y_pred)"
      ],
      "metadata": {
        "colab": {
          "base_uri": "https://localhost:8080/"
        },
        "id": "SxszcxpTRsqz",
        "outputId": "fb41b24a-d2ca-4248-8f7f-58b67cc8854e"
      },
      "execution_count": null,
      "outputs": [
        {
          "output_type": "execute_result",
          "data": {
            "text/plain": [
              "12326"
            ]
          },
          "metadata": {},
          "execution_count": 22
        }
      ]
    },
    {
      "cell_type": "code",
      "source": [
        "submission = pd.DataFrame({'label':y_pred})\n",
        "submission.index.name = 'id'\n",
        "submission.to_csv('submission_trial_1.csv')"
      ],
      "metadata": {
        "id": "qVHdcg1qRv6Y"
      },
      "execution_count": null,
      "outputs": []
    },
    {
      "cell_type": "markdown",
      "source": [
        "#**Trial 2**\n",
        "in this trial change the \"message_calculation_class\" = 'GGNN' Compute new graph states by neural message passing and gated units on the nodes. but by using unbalanced data.\n",
        "\n",
        "while checking the accurracy it is between 63 to 74 % it's not that good  so check another hyperparameaters.\n",
        "\n",
        "*the accuracy on kaggle : 74.9%*"
      ],
      "metadata": {
        "id": "wP33KvKoR7Fm"
      }
    },
    {
      "cell_type": "markdown",
      "source": [
        "**Model Structure**\n"
      ],
      "metadata": {
        "id": "qahld7WFSDW-"
      }
    },
    {
      "cell_type": "code",
      "source": [
        "#Input layer for nodes (tokenized text data)          \n",
        "data = keras.Input(batch_shape=(None,)) \n",
        "# the first dimension is different to the previous one. it is the total number of edges in this batch\n",
        "#Input layer for edge data        \n",
        "edge = keras.Input(batch_shape=(None, 2), dtype=tf.int32)   \n",
        "#Input layer for node2graph ids    \n",
        "node2graph = keras.Input(batch_shape=(None,), dtype=tf.int32) \n",
        "#embedding layer over data with each token embedded as  size vector\n",
        "embeded = Embedding(tokenizer.num_words, 75)(data)  \n",
        "# number of graphs (number of samples)\n",
        "#calculating number of samples (or min(batch_size,no._of_samples))  \n",
        "num_graph = tf.reduce_max(node2graph)+1  \n",
        "#gnn_input layer with inputs as defined above\n",
        "gnn_input = GNNInput(\n",
        "    node_features=embeded,\n",
        "    adjacency_lists=(edge,),\n",
        "    node_to_graph_map=node2graph, \n",
        "    num_graphs=num_graph,\n",
        ")\n",
        "#defining hyperparameters for GNN layer\n",
        "params = GNN.get_default_hyperparameters()\n",
        "#defining hidden dimension of the gnn layer\n",
        "params[\"hidden_dim\"] = 32 \n",
        "params[\"message_calculation_class\"] = 'GGNN'\n",
        "#gnn layer with defined hyperparameters\n",
        "gnn_layer = GNN(params)  \n",
        "\n",
        "#gnn output layer \n",
        "#outpur shape: [data_dimension,hidden layers]  \n",
        "gnn_out = gnn_layer(gnn_input) \n",
        "print('gnn_out', gnn_out)           \n",
        "#calculating segmented mean based on segment_ids\n",
        "avg = segment_mean(\n",
        "    data=gnn_out,\n",
        "    segment_ids=node2graph\n",
        "    )#shape: [batch_size,64] \n",
        "\n",
        "print('mean:', avg)\n",
        "\n",
        "#final dense layer with sigmoid\n",
        "#Output [None,8]\n",
        "fc1 = Dense(8,activation='relu')(avg) \n",
        "#output shape: [batch_size,1] \n",
        "pred = Dense(1, activation='sigmoid')(fc1)   \n",
        "print('pred:', pred)\n",
        "\n",
        "#building model \n",
        "#inputs are data,edges and node2graph\n",
        "#input: dictionary\n",
        "#output: prediction value from dense layer\n",
        "model_2 = Model(\n",
        "    inputs={\n",
        "        'data': data, \n",
        "        'edges': edge,\n",
        "        'node2grah': node2graph,\n",
        "    },\n",
        "    outputs=pred\n",
        ")\n",
        "\n",
        "#printing summary of the model\n",
        "model_2.summary()"
      ],
      "metadata": {
        "colab": {
          "base_uri": "https://localhost:8080/"
        },
        "id": "-aoxcnLUR3mh",
        "outputId": "61cd9f12-f419-453b-a34a-e4b7992ba358"
      },
      "execution_count": null,
      "outputs": [
        {
          "output_type": "stream",
          "name": "stdout",
          "text": [
            "gnn_out KerasTensor(type_spec=TensorSpec(shape=(None, 32), dtype=tf.float32, name=None), name='gnn_1/StatefulPartitionedCall:0', description=\"created by layer 'gnn_1'\")\n",
            "mean: KerasTensor(type_spec=TensorSpec(shape=(None, 32), dtype=tf.float32, name=None), name='tf.math.segment_mean_1/SegmentMean:0', description=\"created by layer 'tf.math.segment_mean_1'\")\n",
            "pred: KerasTensor(type_spec=TensorSpec(shape=(None, 1), dtype=tf.float32, name=None), name='dense_2/Sigmoid:0', description=\"created by layer 'dense_2'\")\n",
            "Model: \"model_1\"\n",
            "__________________________________________________________________________________________________\n",
            " Layer (type)                   Output Shape         Param #     Connected to                     \n",
            "==================================================================================================\n",
            " input_6 (InputLayer)           [(None,)]            0           []                               \n",
            "                                                                                                  \n",
            " input_4 (InputLayer)           [(None,)]            0           []                               \n",
            "                                                                                                  \n",
            " tf.math.reduce_max_1 (TFOpLamb  ()                  0           ['input_6[0][0]']                \n",
            " da)                                                                                              \n",
            "                                                                                                  \n",
            " embedding_1 (Embedding)        (None, 75)           37500       ['input_4[0][0]']                \n",
            "                                                                                                  \n",
            " input_5 (InputLayer)           [(None, 2)]          0           []                               \n",
            "                                                                                                  \n",
            " tf.__operators__.add_1 (TFOpLa  ()                  0           ['tf.math.reduce_max_1[0][0]']   \n",
            " mbda)                                                                                            \n",
            "                                                                                                  \n",
            " gnn_1 (GNN)                    (None, 32)           49568       ['embedding_1[0][0]',            \n",
            "                                                                  'input_5[0][0]',                \n",
            "                                                                  'input_6[0][0]',                \n",
            "                                                                  'tf.__operators__.add_1[0][0]'] \n",
            "                                                                                                  \n",
            " tf.math.segment_mean_1 (TFOpLa  (None, 32)          0           ['gnn_1[0][0]',                  \n",
            " mbda)                                                            'input_6[0][0]']                \n",
            "                                                                                                  \n",
            " dense_1 (Dense)                (None, 8)            264         ['tf.math.segment_mean_1[0][0]'] \n",
            "                                                                                                  \n",
            " dense_2 (Dense)                (None, 1)            9           ['dense_1[0][0]']                \n",
            "                                                                                                  \n",
            "==================================================================================================\n",
            "Total params: 87,341\n",
            "Trainable params: 87,341\n",
            "Non-trainable params: 0\n",
            "__________________________________________________________________________________________________\n"
          ]
        }
      ]
    },
    {
      "cell_type": "markdown",
      "source": [
        "**Compile The Model**"
      ],
      "metadata": {
        "id": "VHScqlTISLlK"
      }
    },
    {
      "cell_type": "code",
      "source": [
        "model_2.compile( loss='BinaryCrossentropy', metrics=['AUC'])"
      ],
      "metadata": {
        "id": "bmn6PURGSI-M"
      },
      "execution_count": null,
      "outputs": []
    },
    {
      "cell_type": "markdown",
      "source": [
        "**Train The Model**\n"
      ],
      "metadata": {
        "id": "56Ft_gkeSRmK"
      }
    },
    {
      "cell_type": "code",
      "source": [
        "batch_size = 64\n",
        "#math.ceil: returns the smallest integral value greater than the number\n",
        "#no. of batches for training data\n",
        "num_batchs = math.ceil(len(training_set) / batch_size) \n",
        "#no. of batches for validation data\n",
        "num_batchs_validation = math.ceil(len(validation_set) / batch_size) \n",
        "\n",
        "model_2.fit(gen_batch(training_set, batch_size=batch_size, repeat=True),\n",
        "    steps_per_epoch=num_batchs,epochs=20,\n",
        "    validation_data=gen_batch(validation_set, batch_size=16, repeat=True),\n",
        "    validation_steps=num_batchs_validation)"
      ],
      "metadata": {
        "colab": {
          "base_uri": "https://localhost:8080/"
        },
        "id": "dvjRNXCiSQNJ",
        "outputId": "ece72d57-7381-4490-fad3-ef0d1e7b6416"
      },
      "execution_count": null,
      "outputs": [
        {
          "output_type": "stream",
          "name": "stdout",
          "text": [
            "Epoch 1/20\n",
            "333/333 [==============================] - 32s 86ms/step - loss: 0.2311 - auc: 0.5531 - val_loss: 0.2360 - val_auc: 0.5074\n",
            "Epoch 2/20\n",
            "333/333 [==============================] - 28s 84ms/step - loss: 0.1850 - auc: 0.6382 - val_loss: 0.1910 - val_auc: 0.6449\n",
            "Epoch 3/20\n",
            "333/333 [==============================] - 30s 89ms/step - loss: 0.1840 - auc: 0.6473 - val_loss: 0.2089 - val_auc: 0.6303\n",
            "Epoch 4/20\n",
            "333/333 [==============================] - 32s 97ms/step - loss: 0.1817 - auc: 0.6637 - val_loss: 0.1773 - val_auc: 0.7125\n",
            "Epoch 5/20\n",
            "333/333 [==============================] - 37s 112ms/step - loss: 0.1814 - auc: 0.6609 - val_loss: 0.2017 - val_auc: 0.6103\n",
            "Epoch 6/20\n",
            "333/333 [==============================] - 28s 86ms/step - loss: 0.1809 - auc: 0.6668 - val_loss: 0.2104 - val_auc: 0.6012\n",
            "Epoch 7/20\n",
            "333/333 [==============================] - 28s 85ms/step - loss: 0.1799 - auc: 0.6695 - val_loss: 0.2036 - val_auc: 0.6870\n",
            "Epoch 8/20\n",
            "333/333 [==============================] - 28s 85ms/step - loss: 0.1782 - auc: 0.6860 - val_loss: 0.1846 - val_auc: 0.6091\n",
            "Epoch 9/20\n",
            "333/333 [==============================] - 30s 89ms/step - loss: 0.1778 - auc: 0.6853 - val_loss: 0.2065 - val_auc: 0.6822\n",
            "Epoch 10/20\n",
            "333/333 [==============================] - 28s 85ms/step - loss: 0.1777 - auc: 0.6894 - val_loss: 0.1556 - val_auc: 0.6972\n",
            "Epoch 11/20\n",
            "333/333 [==============================] - 28s 85ms/step - loss: 0.1773 - auc: 0.6862 - val_loss: 0.2066 - val_auc: 0.6877\n",
            "Epoch 12/20\n",
            "333/333 [==============================] - 28s 85ms/step - loss: 0.1767 - auc: 0.6884 - val_loss: 0.2082 - val_auc: 0.6240\n",
            "Epoch 13/20\n",
            "333/333 [==============================] - 28s 85ms/step - loss: 0.1746 - auc: 0.6969 - val_loss: 0.1918 - val_auc: 0.6919\n",
            "Epoch 14/20\n",
            "333/333 [==============================] - 29s 87ms/step - loss: 0.1744 - auc: 0.7007 - val_loss: 0.1830 - val_auc: 0.6681\n",
            "Epoch 15/20\n",
            "333/333 [==============================] - 29s 88ms/step - loss: 0.1735 - auc: 0.7110 - val_loss: 0.1622 - val_auc: 0.6601\n",
            "Epoch 16/20\n",
            "333/333 [==============================] - 29s 85ms/step - loss: 0.1720 - auc: 0.7202 - val_loss: 0.2287 - val_auc: 0.7185\n",
            "Epoch 17/20\n",
            "333/333 [==============================] - 28s 85ms/step - loss: 0.1698 - auc: 0.7363 - val_loss: 0.2410 - val_auc: 0.7311\n",
            "Epoch 18/20\n",
            "333/333 [==============================] - 29s 86ms/step - loss: 0.1698 - auc: 0.7384 - val_loss: 0.1917 - val_auc: 0.6829\n",
            "Epoch 19/20\n",
            "333/333 [==============================] - 29s 88ms/step - loss: 0.1686 - auc: 0.7494 - val_loss: 0.1571 - val_auc: 0.6710\n",
            "Epoch 20/20\n",
            "333/333 [==============================] - 30s 89ms/step - loss: 0.1687 - auc: 0.7452 - val_loss: 0.1893 - val_auc: 0.7782\n"
          ]
        },
        {
          "output_type": "execute_result",
          "data": {
            "text/plain": [
              "<keras.callbacks.History at 0x7f39cc0a17f0>"
            ]
          },
          "metadata": {},
          "execution_count": 26
        }
      ]
    },
    {
      "cell_type": "markdown",
      "source": [
        "**Predictoin And Submission**\n"
      ],
      "metadata": {
        "id": "yV1AGoX-SnT4"
      }
    },
    {
      "cell_type": "code",
      "source": [
        "#make prediction on test data by using the trained model \n",
        "y_pred_2 = model_2.predict(gen_batch(testing_set, batch_size=16, shuffle=False))\n",
        "y_pred_2 = np.reshape(y_pred_2, -1)"
      ],
      "metadata": {
        "colab": {
          "base_uri": "https://localhost:8080/"
        },
        "id": "nDnCBD9CSXuo",
        "outputId": "64f31ba6-092c-41dc-c73c-5b8f07bd1a68"
      },
      "execution_count": null,
      "outputs": [
        {
          "output_type": "stream",
          "name": "stdout",
          "text": [
            "771/771 [==============================] - 8s 10ms/step\n"
          ]
        }
      ]
    },
    {
      "cell_type": "code",
      "source": [
        "len(y_pred_2)"
      ],
      "metadata": {
        "colab": {
          "base_uri": "https://localhost:8080/"
        },
        "id": "w_1BxJShS7P5",
        "outputId": "4e600fc9-1ba8-48ba-d63c-30a6e4cab4d1"
      },
      "execution_count": null,
      "outputs": [
        {
          "output_type": "execute_result",
          "data": {
            "text/plain": [
              "12326"
            ]
          },
          "metadata": {},
          "execution_count": 28
        }
      ]
    },
    {
      "cell_type": "code",
      "source": [
        "submission = pd.DataFrame({'label':y_pred_2})\n",
        "submission.index.name = 'id'\n",
        "submission.to_csv('submission_trial_2.csv')"
      ],
      "metadata": {
        "id": "C81qGHYRS7vi"
      },
      "execution_count": null,
      "outputs": []
    },
    {
      "cell_type": "markdown",
      "source": [
        "#**Trial 3**\n",
        "in this trial add hyperparameters num_edge_MLP_hidden_layers by 16 and use message_calculation_class\" = 'RGCN' and another change in the number of a vector space of 50 dimensions in which words will be embedded and in hidden_dim by 64\n",
        "\n",
        "\n",
        "while checking the accurracy it is between 57 to 61 % it's not that good  so check another hyperparameaters.\n",
        "\n",
        "*the accuracy on kaggle : 63.6%*"
      ],
      "metadata": {
        "id": "GCuJ_uOMVuQ9"
      }
    },
    {
      "cell_type": "markdown",
      "source": [
        "**Model Structure**"
      ],
      "metadata": {
        "id": "ATU1at_FV0Sm"
      }
    },
    {
      "cell_type": "code",
      "source": [
        "#Input layer for nodes (tokenized text data)          \n",
        "data = keras.Input(batch_shape=(None,)) \n",
        "# the first dim is different to the previous one. it is the total number of edges in this batch\n",
        "#Input layer for edge data        \n",
        "edge = keras.Input(batch_shape=(None, 2), dtype=tf.int32)   \n",
        "#Input layer for node2graph ids    \n",
        "node2graph = keras.Input(batch_shape=(None,), dtype=tf.int32) \n",
        "#embedding layer over data with each token embedded as  size vector\n",
        "embeded = Embedding(tokenizer.num_words, 50)(data)  \n",
        "\n",
        "# number of graphs (number of samples)\n",
        "#calculating number of samples (or min(batch_size,no._of_samples))  \n",
        "num_graph = tf.reduce_max(node2graph)+1  \n",
        "#gnn_input layer with inputs as defined above\n",
        "gnn_input = GNNInput(\n",
        "    node_features=embeded,\n",
        "    adjacency_lists=(edge,),\n",
        "    node_to_graph_map=node2graph, \n",
        "    num_graphs=num_graph,\n",
        ")\n",
        "#defining hyperparameters for GNN layer\n",
        "params = GNN.get_default_hyperparameters()\n",
        "#defining hidden dimension of the gnn layer\n",
        "params[\"hidden_dim\"] = 64\n",
        "#Relational Graph Convolutional Networks  \n",
        "params[\"message_calculation_class\"] = 'RGCN'\n",
        "params[\"num_edge_MLP_hidden_layers\"] = 16\n",
        "#gnn layer with defined hyperparameters\n",
        "gnn_layer = GNN(params)  \n",
        "\n",
        "#gnn output layer \n",
        "#outpur shape: [data_dimension,hidden layers]  \n",
        "gnn_out = gnn_layer(gnn_input) \n",
        "\n",
        "print('gnn_out', gnn_out)           \n",
        "\n",
        "#calculating segmented mean based on segment_ids\n",
        "avg = segment_mean(\n",
        "    data=gnn_out,\n",
        "    segment_ids=node2graph\n",
        "    )#shape: [batch_size,64] \n",
        "\n",
        "print('mean:', avg)\n",
        "\n",
        "#final dense layer with sigmoid\n",
        "#Output [None,8]\n",
        "fc1 = Dense(8,activation='relu')(avg) \n",
        "#output shape: [batch_size,1] \n",
        "pred = Dense(1, activation='sigmoid')(fc1)   \n",
        "print('pred:', pred)\n",
        "\n",
        "#building model \n",
        "#inputs are data,edges and node2graph\n",
        "#input: dictionary\n",
        "#output: prediction value from dense layer\n",
        "model_3 = Model(\n",
        "    inputs={\n",
        "        'data': data, \n",
        "        'edges': edge,\n",
        "        'node2grah': node2graph,\n",
        "    },\n",
        "    outputs=pred\n",
        ")\n",
        "\n",
        "#printing summary of the model\n",
        "model_3.summary()\n",
        "     "
      ],
      "metadata": {
        "id": "Ecfoe5JgVowr",
        "colab": {
          "base_uri": "https://localhost:8080/"
        },
        "outputId": "84cad706-084c-433a-c727-2f734f604598"
      },
      "execution_count": null,
      "outputs": [
        {
          "output_type": "stream",
          "name": "stdout",
          "text": [
            "gnn_out KerasTensor(type_spec=TensorSpec(shape=(None, 64), dtype=tf.float32, name=None), name='gnn_2/StatefulPartitionedCall:0', description=\"created by layer 'gnn_2'\")\n",
            "mean: KerasTensor(type_spec=TensorSpec(shape=(None, 64), dtype=tf.float32, name=None), name='tf.math.segment_mean_2/SegmentMean:0', description=\"created by layer 'tf.math.segment_mean_2'\")\n",
            "pred: KerasTensor(type_spec=TensorSpec(shape=(None, 1), dtype=tf.float32, name=None), name='dense_4/Sigmoid:0', description=\"created by layer 'dense_4'\")\n",
            "Model: \"model_2\"\n",
            "__________________________________________________________________________________________________\n",
            " Layer (type)                   Output Shape         Param #     Connected to                     \n",
            "==================================================================================================\n",
            " input_9 (InputLayer)           [(None,)]            0           []                               \n",
            "                                                                                                  \n",
            " input_7 (InputLayer)           [(None,)]            0           []                               \n",
            "                                                                                                  \n",
            " tf.math.reduce_max_2 (TFOpLamb  ()                  0           ['input_9[0][0]']                \n",
            " da)                                                                                              \n",
            "                                                                                                  \n",
            " embedding_2 (Embedding)        (None, 50)           25000       ['input_7[0][0]']                \n",
            "                                                                                                  \n",
            " input_8 (InputLayer)           [(None, 2)]          0           []                               \n",
            "                                                                                                  \n",
            " tf.__operators__.add_2 (TFOpLa  ()                  0           ['tf.math.reduce_max_2[0][0]']   \n",
            " mbda)                                                                                            \n",
            "                                                                                                  \n",
            " gnn_2 (GNN)                    (None, 64)           335616      ['embedding_2[0][0]',            \n",
            "                                                                  'input_8[0][0]',                \n",
            "                                                                  'input_9[0][0]',                \n",
            "                                                                  'tf.__operators__.add_2[0][0]'] \n",
            "                                                                                                  \n",
            " tf.math.segment_mean_2 (TFOpLa  (None, 64)          0           ['gnn_2[0][0]',                  \n",
            " mbda)                                                            'input_9[0][0]']                \n",
            "                                                                                                  \n",
            " dense_3 (Dense)                (None, 8)            520         ['tf.math.segment_mean_2[0][0]'] \n",
            "                                                                                                  \n",
            " dense_4 (Dense)                (None, 1)            9           ['dense_3[0][0]']                \n",
            "                                                                                                  \n",
            "==================================================================================================\n",
            "Total params: 361,145\n",
            "Trainable params: 361,145\n",
            "Non-trainable params: 0\n",
            "__________________________________________________________________________________________________\n"
          ]
        }
      ]
    },
    {
      "cell_type": "markdown",
      "source": [
        "**Compile The Model**"
      ],
      "metadata": {
        "id": "gTgquiVLWGMr"
      }
    },
    {
      "cell_type": "code",
      "source": [
        "model_3.compile( loss='BinaryCrossentropy', metrics=['AUC'])"
      ],
      "metadata": {
        "id": "3cfeeAXlWCU2"
      },
      "execution_count": null,
      "outputs": []
    },
    {
      "cell_type": "markdown",
      "source": [
        "**Train The Model**\n"
      ],
      "metadata": {
        "id": "6v_hxr3OWJRU"
      }
    },
    {
      "cell_type": "code",
      "source": [
        "batch_size = 32\n",
        "\n",
        "#math.ceil: returns the smallest integral value greater than the number\n",
        "#no. of batches for training data\n",
        "num_batchs = math.ceil(len(training_set) / batch_size) \n",
        "#no. of batches for validation data\n",
        "num_batchs_validation = math.ceil(len(validation_set) / batch_size) \n",
        "\n",
        "model_3.fit(gen_batch(training_set, batch_size=batch_size, repeat=True),\n",
        "    steps_per_epoch=num_batchs,\n",
        "    epochs=20,\n",
        "    validation_data=gen_batch(validation_set, batch_size=16, repeat=True),\n",
        "    validation_steps=num_batchs_validation)"
      ],
      "metadata": {
        "id": "TdXq4AnCWIaf",
        "colab": {
          "base_uri": "https://localhost:8080/"
        },
        "outputId": "bf976934-e432-4988-829f-8ad5e44a6939"
      },
      "execution_count": null,
      "outputs": [
        {
          "output_type": "stream",
          "name": "stdout",
          "text": [
            "Epoch 1/20\n",
            "665/665 [==============================] - 81s 109ms/step - loss: 0.3073 - auc: 0.4264 - val_loss: 0.2244 - val_auc: 0.3866\n",
            "Epoch 2/20\n",
            "665/665 [==============================] - 71s 106ms/step - loss: 0.2021 - auc: 0.4371 - val_loss: 0.2168 - val_auc: 0.6283\n",
            "Epoch 3/20\n",
            "665/665 [==============================] - 74s 112ms/step - loss: 0.1919 - auc: 0.5765 - val_loss: 0.1798 - val_auc: 0.6246\n",
            "Epoch 4/20\n",
            "665/665 [==============================] - 72s 108ms/step - loss: 0.1916 - auc: 0.6044 - val_loss: 0.2397 - val_auc: 0.6085\n",
            "Epoch 5/20\n",
            "665/665 [==============================] - 72s 108ms/step - loss: 0.1902 - auc: 0.6109 - val_loss: 0.2090 - val_auc: 0.5772\n",
            "Epoch 6/20\n",
            "665/665 [==============================] - 71s 106ms/step - loss: 0.1912 - auc: 0.5968 - val_loss: 0.1998 - val_auc: 0.6428\n",
            "Epoch 7/20\n",
            "665/665 [==============================] - 72s 108ms/step - loss: 0.1895 - auc: 0.6158 - val_loss: 0.2046 - val_auc: 0.5914\n",
            "Epoch 8/20\n",
            "665/665 [==============================] - 72s 107ms/step - loss: 0.1904 - auc: 0.6047 - val_loss: 0.1970 - val_auc: 0.6341\n",
            "Epoch 9/20\n",
            "665/665 [==============================] - 72s 108ms/step - loss: 0.1907 - auc: 0.6019 - val_loss: 0.1845 - val_auc: 0.5922\n",
            "Epoch 10/20\n",
            "665/665 [==============================] - 72s 109ms/step - loss: 0.1899 - auc: 0.6110 - val_loss: 0.2075 - val_auc: 0.6201\n",
            "Epoch 11/20\n",
            "665/665 [==============================] - 71s 107ms/step - loss: 0.1910 - auc: 0.6057 - val_loss: 0.1788 - val_auc: 0.6657\n",
            "Epoch 12/20\n",
            "665/665 [==============================] - 72s 109ms/step - loss: 0.1900 - auc: 0.6060 - val_loss: 0.2286 - val_auc: 0.6092\n",
            "Epoch 13/20\n",
            "665/665 [==============================] - 71s 106ms/step - loss: 0.1900 - auc: 0.6283 - val_loss: 0.1993 - val_auc: 0.6051\n",
            "Epoch 14/20\n",
            "665/665 [==============================] - 73s 110ms/step - loss: 0.1895 - auc: 0.6231 - val_loss: 0.2164 - val_auc: 0.6006\n",
            "Epoch 15/20\n",
            "665/665 [==============================] - 71s 107ms/step - loss: 0.1895 - auc: 0.6091 - val_loss: 0.1902 - val_auc: 0.6427\n",
            "Epoch 16/20\n",
            "665/665 [==============================] - 73s 109ms/step - loss: 0.1893 - auc: 0.6164 - val_loss: 0.2120 - val_auc: 0.6505\n",
            "Epoch 17/20\n",
            "665/665 [==============================] - 71s 107ms/step - loss: 0.1901 - auc: 0.6112 - val_loss: 0.2033 - val_auc: 0.6267\n",
            "Epoch 18/20\n",
            "665/665 [==============================] - 72s 108ms/step - loss: 0.1898 - auc: 0.6102 - val_loss: 0.1926 - val_auc: 0.6181\n",
            "Epoch 19/20\n",
            "665/665 [==============================] - 72s 108ms/step - loss: 0.1893 - auc: 0.6125 - val_loss: 0.2209 - val_auc: 0.5801\n",
            "Epoch 20/20\n",
            "665/665 [==============================] - 72s 108ms/step - loss: 0.1896 - auc: 0.6141 - val_loss: 0.1845 - val_auc: 0.6708\n"
          ]
        },
        {
          "output_type": "execute_result",
          "data": {
            "text/plain": [
              "<keras.callbacks.History at 0x7f39dc1245b0>"
            ]
          },
          "metadata": {},
          "execution_count": 32
        }
      ]
    },
    {
      "cell_type": "markdown",
      "source": [
        "**Predictoin And Submission**\n",
        "\n"
      ],
      "metadata": {
        "id": "1PJwUcxQbuxG"
      }
    },
    {
      "cell_type": "code",
      "source": [
        "#make prediction on test data by using the trained model \n",
        "y_pred_3 = model_3.predict(gen_batch(testing_set, batch_size=16, shuffle=False))\n",
        "y_pred_3 = np.reshape(y_pred_3, -1)"
      ],
      "metadata": {
        "id": "W_eAaDayWR7s",
        "colab": {
          "base_uri": "https://localhost:8080/"
        },
        "outputId": "d41f4ebb-239e-4380-f5b1-d16b095c12f1"
      },
      "execution_count": null,
      "outputs": [
        {
          "output_type": "stream",
          "name": "stdout",
          "text": [
            "771/771 [==============================] - 15s 18ms/step\n"
          ]
        }
      ]
    },
    {
      "cell_type": "code",
      "source": [
        "len(y_pred_3)"
      ],
      "metadata": {
        "id": "F8ttR-9ob0Vf",
        "colab": {
          "base_uri": "https://localhost:8080/"
        },
        "outputId": "d79ab60e-38e8-4a01-9278-e6ef5b9bc90d"
      },
      "execution_count": null,
      "outputs": [
        {
          "output_type": "execute_result",
          "data": {
            "text/plain": [
              "12326"
            ]
          },
          "metadata": {},
          "execution_count": 34
        }
      ]
    },
    {
      "cell_type": "code",
      "source": [
        "submission = pd.DataFrame({'label':y_pred_3})\n",
        "submission.index.name = 'id'\n",
        "submission.to_csv('submission_trial_3.csv')"
      ],
      "metadata": {
        "id": "Lg-qyE80b0wJ"
      },
      "execution_count": null,
      "outputs": []
    },
    {
      "cell_type": "markdown",
      "source": [
        "#**Trial 4**\n",
        "in this trial use \"message_calculation_class\"= \"RGAT\" and hidden_dim by 32 and num_heads by 32 \n",
        "\n",
        "while checking the accurracy it is between 60 to 70 % it's not that good  so check another hyperparameaters.\n",
        "\n",
        "*the accuracy on kaggle :68.7%*"
      ],
      "metadata": {
        "id": "T0zW_paMb5I8"
      }
    },
    {
      "cell_type": "markdown",
      "source": [
        "**Model Structure**"
      ],
      "metadata": {
        "id": "8XNu4WnOb_mI"
      }
    },
    {
      "cell_type": "code",
      "source": [
        "# the first dim is different to the previous one. it is the total number of edges in this batch\n",
        "edge = keras.Input(batch_shape=(None, 2), dtype=tf.int32)\n",
        "node2graph = keras.Input(batch_shape=(None,), dtype=tf.int32)\n",
        "embeded = Embedding(tokenizer.num_words, 60)(data)\n",
        "\n",
        "# number of graphs (number of samples)\n",
        "num_graph = tf.reduce_max(node2graph)+1\n",
        "\n",
        "gnn_input = GNNInput(\n",
        "    node_features=embeded,\n",
        "    adjacency_lists=(edge,),\n",
        "    node_to_graph_map=node2graph, \n",
        "    num_graphs=num_graph,\n",
        ") \n",
        "# This chooses the tf2_gnn.layers.message_passing.* layer used in each step.\n",
        "params = GNN.get_default_hyperparameters()\n",
        "params[\"hidden_dim\"] = 32 \n",
        "#use GGNN as a calculation class \n",
        "params[\"message_calculation_class\"]= \"RGAT\" \n",
        "params[\"num_heads\"]=32\n",
        "gnn_layer = GNN(params)\n",
        "gnn_out = gnn_layer(gnn_input)\n",
        "\n",
        "print('gnn_out', gnn_out)\n",
        "\n",
        "avg = segment_mean(\n",
        "    data=gnn_out,\n",
        "    segment_ids=node2graph\n",
        ")\n",
        "print('mean:', avg)\n",
        "\n",
        "pred = Dense(1, activation='sigmoid')(avg)\n",
        "print('pred:', pred)\n",
        "# create model \n",
        "model_4 = Model(\n",
        "    inputs={\n",
        "        'data': data,\n",
        "        'edges': edge,\n",
        "        'node2grah': node2graph,\n",
        "    },\n",
        "    outputs=pred\n",
        ")\n",
        "model_4.summary() "
      ],
      "metadata": {
        "id": "IOIcfLkcb-Ew",
        "colab": {
          "base_uri": "https://localhost:8080/"
        },
        "outputId": "9bd281da-7d13-4ccb-e766-ec26dfa2de9b"
      },
      "execution_count": null,
      "outputs": [
        {
          "output_type": "stream",
          "name": "stdout",
          "text": [
            "gnn_out KerasTensor(type_spec=TensorSpec(shape=(None, 32), dtype=tf.float32, name=None), name='gnn_4/StatefulPartitionedCall:0', description=\"created by layer 'gnn_4'\")\n",
            "mean: KerasTensor(type_spec=TensorSpec(shape=(None, 32), dtype=tf.float32, name=None), name='tf.math.segment_mean_4/SegmentMean:0', description=\"created by layer 'tf.math.segment_mean_4'\")\n",
            "pred: KerasTensor(type_spec=TensorSpec(shape=(None, 1), dtype=tf.float32, name=None), name='dense_6/Sigmoid:0', description=\"created by layer 'dense_6'\")\n",
            "Model: \"model_4\"\n",
            "__________________________________________________________________________________________________\n",
            " Layer (type)                   Output Shape         Param #     Connected to                     \n",
            "==================================================================================================\n",
            " input_13 (InputLayer)          [(None,)]            0           []                               \n",
            "                                                                                                  \n",
            " input_7 (InputLayer)           [(None,)]            0           []                               \n",
            "                                                                                                  \n",
            " tf.math.reduce_max_4 (TFOpLamb  ()                  0           ['input_13[0][0]']               \n",
            " da)                                                                                              \n",
            "                                                                                                  \n",
            " embedding_4 (Embedding)        (None, 60)           30000       ['input_7[0][0]']                \n",
            "                                                                                                  \n",
            " input_12 (InputLayer)          [(None, 2)]          0           []                               \n",
            "                                                                                                  \n",
            " tf.__operators__.add_4 (TFOpLa  ()                  0           ['tf.math.reduce_max_4[0][0]']   \n",
            " mbda)                                                                                            \n",
            "                                                                                                  \n",
            " gnn_4 (GNN)                    (None, 32)           24000       ['embedding_4[0][0]',            \n",
            "                                                                  'input_12[0][0]',               \n",
            "                                                                  'input_13[0][0]',               \n",
            "                                                                  'tf.__operators__.add_4[0][0]'] \n",
            "                                                                                                  \n",
            " tf.math.segment_mean_4 (TFOpLa  (None, 32)          0           ['gnn_4[0][0]',                  \n",
            " mbda)                                                            'input_13[0][0]']               \n",
            "                                                                                                  \n",
            " dense_6 (Dense)                (None, 1)            33          ['tf.math.segment_mean_4[0][0]'] \n",
            "                                                                                                  \n",
            "==================================================================================================\n",
            "Total params: 54,033\n",
            "Trainable params: 54,033\n",
            "Non-trainable params: 0\n",
            "__________________________________________________________________________________________________\n"
          ]
        }
      ]
    },
    {
      "cell_type": "markdown",
      "source": [
        "**Compile The Model**\n"
      ],
      "metadata": {
        "id": "zJjGfvlzcEek"
      }
    },
    {
      "cell_type": "code",
      "source": [
        "model_4.compile( loss='BinaryCrossentropy', metrics=['AUC'])"
      ],
      "metadata": {
        "id": "755fUvlzcFzu"
      },
      "execution_count": null,
      "outputs": []
    },
    {
      "cell_type": "markdown",
      "source": [
        "**Train The Model**\n"
      ],
      "metadata": {
        "id": "Yoq9FlDvcHbT"
      }
    },
    {
      "cell_type": "code",
      "source": [
        "\n",
        "\n",
        "batch_size = 400\n",
        "num_batchs = math.ceil(len(training_set) / batch_size)\n",
        "num_batchs_validation = math.ceil(len(validation_set) / batch_size)\n",
        "\n",
        "model_4.fit(gen_batch(training_set, batch_size=batch_size, repeat=True),\n",
        "    steps_per_epoch=num_batchs,\n",
        "    epochs=20,\n",
        "    validation_data=gen_batch(validation_set, batch_size=400, repeat=True),\n",
        "    validation_steps=num_batchs_validation)"
      ],
      "metadata": {
        "id": "q0mx6JULcJnX",
        "colab": {
          "base_uri": "https://localhost:8080/"
        },
        "outputId": "553099f7-44db-4943-d3c5-64b057ec790a"
      },
      "execution_count": null,
      "outputs": [
        {
          "output_type": "stream",
          "name": "stdout",
          "text": [
            "Epoch 1/20\n",
            "54/54 [==============================] - 55s 995ms/step - loss: 0.3302 - auc: 0.3958 - val_loss: 0.2733 - val_auc: 0.3851\n",
            "Epoch 2/20\n",
            "54/54 [==============================] - 51s 945ms/step - loss: 0.2738 - auc: 0.3659 - val_loss: 0.2592 - val_auc: 0.3639\n",
            "Epoch 3/20\n",
            "54/54 [==============================] - 53s 973ms/step - loss: 0.2435 - auc: 0.3684 - val_loss: 0.2270 - val_auc: 0.4397\n",
            "Epoch 4/20\n",
            "54/54 [==============================] - 53s 979ms/step - loss: 0.2124 - auc: 0.4812 - val_loss: 0.2309 - val_auc: 0.4606\n",
            "Epoch 5/20\n",
            "54/54 [==============================] - 52s 977ms/step - loss: 0.2025 - auc: 0.5386 - val_loss: 0.2124 - val_auc: 0.6017\n",
            "Epoch 6/20\n",
            "54/54 [==============================] - 53s 986ms/step - loss: 0.1969 - auc: 0.5700 - val_loss: 0.2086 - val_auc: 0.6270\n",
            "Epoch 7/20\n",
            "54/54 [==============================] - 52s 955ms/step - loss: 0.1974 - auc: 0.5735 - val_loss: 0.2093 - val_auc: 0.5722\n",
            "Epoch 8/20\n",
            "54/54 [==============================] - 52s 952ms/step - loss: 0.1929 - auc: 0.5995 - val_loss: 0.2110 - val_auc: 0.6316\n",
            "Epoch 9/20\n",
            "54/54 [==============================] - 52s 963ms/step - loss: 0.1911 - auc: 0.6166 - val_loss: 0.2090 - val_auc: 0.6358\n",
            "Epoch 10/20\n",
            "54/54 [==============================] - 52s 962ms/step - loss: 0.1918 - auc: 0.6179 - val_loss: 0.1983 - val_auc: 0.6515\n",
            "Epoch 11/20\n",
            "54/54 [==============================] - 52s 967ms/step - loss: 0.1878 - auc: 0.6344 - val_loss: 0.2029 - val_auc: 0.6800\n",
            "Epoch 12/20\n",
            "54/54 [==============================] - 52s 965ms/step - loss: 0.1850 - auc: 0.6554 - val_loss: 0.2344 - val_auc: 0.5808\n",
            "Epoch 13/20\n",
            "54/54 [==============================] - 51s 956ms/step - loss: 0.1857 - auc: 0.6479 - val_loss: 0.1943 - val_auc: 0.6871\n",
            "Epoch 14/20\n",
            "54/54 [==============================] - 52s 959ms/step - loss: 0.1845 - auc: 0.6527 - val_loss: 0.2001 - val_auc: 0.6882\n",
            "Epoch 15/20\n",
            "54/54 [==============================] - 55s 1s/step - loss: 0.1848 - auc: 0.6529 - val_loss: 0.1958 - val_auc: 0.6746\n",
            "Epoch 16/20\n",
            "54/54 [==============================] - 52s 969ms/step - loss: 0.1842 - auc: 0.6544 - val_loss: 0.2011 - val_auc: 0.6965\n",
            "Epoch 17/20\n",
            "54/54 [==============================] - 52s 961ms/step - loss: 0.1827 - auc: 0.6651 - val_loss: 0.1932 - val_auc: 0.7031\n",
            "Epoch 18/20\n",
            "54/54 [==============================] - 52s 965ms/step - loss: 0.1814 - auc: 0.6742 - val_loss: 0.2278 - val_auc: 0.6524\n",
            "Epoch 19/20\n",
            "54/54 [==============================] - 52s 971ms/step - loss: 0.1828 - auc: 0.6608 - val_loss: 0.2131 - val_auc: 0.6488\n",
            "Epoch 20/20\n",
            "54/54 [==============================] - 52s 963ms/step - loss: 0.1828 - auc: 0.6622 - val_loss: 0.2110 - val_auc: 0.7150\n"
          ]
        },
        {
          "output_type": "execute_result",
          "data": {
            "text/plain": [
              "<keras.callbacks.History at 0x7f39d4cf51f0>"
            ]
          },
          "metadata": {},
          "execution_count": 44
        }
      ]
    },
    {
      "cell_type": "markdown",
      "source": [
        "**Predictoin And Submission**\n"
      ],
      "metadata": {
        "id": "FtjU0k6scNcL"
      }
    },
    {
      "cell_type": "code",
      "source": [
        "#make prediction on test data by using the trained model \n",
        "y_pred_4 = model_4.predict(gen_batch(testing_set, batch_size=16, shuffle=False))\n",
        "y_pred_4 = np.reshape(y_pred_4, -1)"
      ],
      "metadata": {
        "id": "DM13r1zRcOkj",
        "colab": {
          "base_uri": "https://localhost:8080/"
        },
        "outputId": "a803d22c-5bb4-4191-b688-5675e4d7d040"
      },
      "execution_count": null,
      "outputs": [
        {
          "output_type": "stream",
          "name": "stdout",
          "text": [
            "771/771 [==============================] - 15s 17ms/step\n"
          ]
        }
      ]
    },
    {
      "cell_type": "code",
      "source": [
        "len(y_pred_4)"
      ],
      "metadata": {
        "id": "awY2Drm3cQbi",
        "colab": {
          "base_uri": "https://localhost:8080/"
        },
        "outputId": "fa44ceaf-2b5f-4bb2-efb6-b32bb754c0ea"
      },
      "execution_count": null,
      "outputs": [
        {
          "output_type": "execute_result",
          "data": {
            "text/plain": [
              "12326"
            ]
          },
          "metadata": {},
          "execution_count": 46
        }
      ]
    },
    {
      "cell_type": "code",
      "source": [
        "submission = pd.DataFrame({'label':y_pred_4})\n",
        "submission.index.name = 'id'\n",
        "submission.to_csv('submission_trial_4.csv')"
      ],
      "metadata": {
        "id": "lruTEn9UcTxG"
      },
      "execution_count": null,
      "outputs": []
    },
    {
      "cell_type": "markdown",
      "source": [
        "#**Trial 5**\n",
        "in this trial change in \"message_calculation_class\"] = 'RGIN' and change in another hyperparameaters after check the accurracy it's between 70 and 77 % so will check another hyperparameaters.\n",
        "\n",
        "*the accuracy on kaggle : 77.0%*"
      ],
      "metadata": {
        "id": "8-7HB58Rc7iF"
      }
    },
    {
      "cell_type": "markdown",
      "source": [
        "**Model Structure**\n"
      ],
      "metadata": {
        "id": "3cRx22BmdBPi"
      }
    },
    {
      "cell_type": "code",
      "source": [
        "#Input layer for nodes (tokenized text data)          \n",
        "data = keras.Input(batch_shape=(None,)) \n",
        "# the first dim is different to the previous one. it is the total number of edges in this batch\n",
        "#Input layer for edge data        \n",
        "edge = keras.Input(batch_shape=(None, 2), dtype=tf.int32)   \n",
        "#Input layer for node2graph ids    \n",
        "node2graph = keras.Input(batch_shape=(None,), dtype=tf.int32) \n",
        "#embedding layer over data with each token embedded as  size vector\n",
        "embeded = Embedding(tokenizer.num_words, 150)(data)  \n",
        "\n",
        "# number of graphs (number of samples)\n",
        "#calculating number of samples (or min(batch_size,no._of_samples))  \n",
        "num_graph = tf.reduce_max(node2graph)+1  \n",
        "#gnn_input layer with inputs as defined above\n",
        "gnn_input = GNNInput(\n",
        "    node_features=embeded,\n",
        "    adjacency_lists=(edge,),\n",
        "    node_to_graph_map=node2graph, \n",
        "    num_graphs=num_graph,\n",
        ")\n",
        "\n",
        "#defining hyperparameters for GNN layer\n",
        "params = GNN.get_default_hyperparameters()\n",
        "#defining hidden dimension of the gnn layer\n",
        "params[\"hidden_dim\"] = 64\n",
        "#Relational Graph Isomorphism Networks \n",
        "params[\"message_calculation_class\"] = 'RGIN'\n",
        "# params[\"num_edge_MLP_hidden_layers\"] = 32 ##\n",
        "params[\"num_aggr_MLP_hidden_layers\"] = 6\n",
        "#gnn layer with defined hyperparameters\n",
        "gnn_layer = GNN(params)  \n",
        "\n",
        "#gnn output layer \n",
        "#outpur shape: [data_dimension,hidden layers]  \n",
        "gnn_out = gnn_layer(gnn_input) \n",
        "\n",
        "print('gnn_out', gnn_out)           \n",
        "\n",
        "#calculating segmented mean based on segment_ids\n",
        "avg = segment_mean(\n",
        "    data=gnn_out,\n",
        "    segment_ids=node2graph\n",
        "    )#shape: [batch_size,64] \n",
        "\n",
        "print('mean:', avg)\n",
        "\n",
        "#final dense layer with sigmoid\n",
        "#Output [None,8]\n",
        "fc1 = Dense(8,activation='relu')(avg) \n",
        "#output shape: [batch_size,1] \n",
        "pred = Dense(1, activation='sigmoid')(fc1)   \n",
        "print('pred:', pred)\n",
        "\n",
        "#building model \n",
        "#inputs are data,edges and node2graph\n",
        "#input: dictionary\n",
        "#output: prediction value from dense layer\n",
        "model_5 = Model(\n",
        "    inputs={\n",
        "        'data': data, \n",
        "        'edges': edge,\n",
        "        'node2grah': node2graph,\n",
        "    },\n",
        "    outputs=pred\n",
        ")\n",
        "\n",
        "#printing summary of the model\n",
        "model_5.summary()"
      ],
      "metadata": {
        "colab": {
          "base_uri": "https://localhost:8080/"
        },
        "id": "swrDl4xlsgsi",
        "outputId": "dfa772f0-88b7-4ae1-9937-d0008d19a2c8"
      },
      "execution_count": null,
      "outputs": [
        {
          "output_type": "stream",
          "name": "stdout",
          "text": [
            "gnn_out KerasTensor(type_spec=TensorSpec(shape=(None, 64), dtype=tf.float32, name=None), name='gnn_9/StatefulPartitionedCall:0', description=\"created by layer 'gnn_9'\")\n",
            "mean: KerasTensor(type_spec=TensorSpec(shape=(None, 64), dtype=tf.float32, name=None), name='tf.math.segment_mean_3/SegmentMean:0', description=\"created by layer 'tf.math.segment_mean_3'\")\n",
            "pred: KerasTensor(type_spec=TensorSpec(shape=(None, 1), dtype=tf.float32, name=None), name='dense_4/Sigmoid:0', description=\"created by layer 'dense_4'\")\n",
            "Model: \"model_3\"\n",
            "__________________________________________________________________________________________________\n",
            " Layer (type)                   Output Shape         Param #     Connected to                     \n",
            "==================================================================================================\n",
            " input_30 (InputLayer)          [(None,)]            0           []                               \n",
            "                                                                                                  \n",
            " input_28 (InputLayer)          [(None,)]            0           []                               \n",
            "                                                                                                  \n",
            " tf.math.reduce_max_9 (TFOpLamb  ()                  0           ['input_30[0][0]']               \n",
            " da)                                                                                              \n",
            "                                                                                                  \n",
            " embedding_9 (Embedding)        (None, 150)          75000       ['input_28[0][0]']               \n",
            "                                                                                                  \n",
            " input_29 (InputLayer)          [(None, 2)]          0           []                               \n",
            "                                                                                                  \n",
            " tf.__operators__.add_9 (TFOpLa  ()                  0           ['tf.math.reduce_max_9[0][0]']   \n",
            " mbda)                                                                                            \n",
            "                                                                                                  \n",
            " gnn_9 (GNN)                    (None, 64)           194560      ['embedding_9[0][0]',            \n",
            "                                                                  'input_29[0][0]',               \n",
            "                                                                  'input_30[0][0]',               \n",
            "                                                                  'tf.__operators__.add_9[0][0]'] \n",
            "                                                                                                  \n",
            " tf.math.segment_mean_3 (TFOpLa  (None, 64)          0           ['gnn_9[0][0]',                  \n",
            " mbda)                                                            'input_30[0][0]']               \n",
            "                                                                                                  \n",
            " dense_3 (Dense)                (None, 8)            520         ['tf.math.segment_mean_3[0][0]'] \n",
            "                                                                                                  \n",
            " dense_4 (Dense)                (None, 1)            9           ['dense_3[0][0]']                \n",
            "                                                                                                  \n",
            "==================================================================================================\n",
            "Total params: 270,089\n",
            "Trainable params: 270,089\n",
            "Non-trainable params: 0\n",
            "__________________________________________________________________________________________________\n"
          ]
        }
      ]
    },
    {
      "cell_type": "markdown",
      "source": [
        "**Compile The Model**\n"
      ],
      "metadata": {
        "id": "CMg1fELidHyJ"
      }
    },
    {
      "cell_type": "code",
      "source": [
        "model_5.compile( loss='BinaryCrossentropy', metrics=['AUC'])"
      ],
      "metadata": {
        "id": "RaK-fExpdKEi"
      },
      "execution_count": null,
      "outputs": []
    },
    {
      "cell_type": "markdown",
      "source": [
        "**Train The Model**\n"
      ],
      "metadata": {
        "id": "ugLAxK6GdLeq"
      }
    },
    {
      "cell_type": "code",
      "source": [
        "batch_size = 16\n",
        "\n",
        "#math.ceil: returns the smallest integral value greater than the number\n",
        "#no. of batches for training data\n",
        "num_batchs = math.ceil(len(training_set) / batch_size) \n",
        "#no. of batches for validation data\n",
        "num_batchs_validation = math.ceil(len(validation_set) / batch_size) \n",
        "\n",
        "model_5.fit(gen_batch(training_set, batch_size=batch_size, repeat=True),\n",
        "    steps_per_epoch=num_batchs,\n",
        "    epochs=20,\n",
        "    validation_data=gen_batch(validation_set, batch_size=16, repeat=True),\n",
        "    validation_steps=num_batchs_validation)\n",
        "    "
      ],
      "metadata": {
        "id": "WiifDXrvdNfJ",
        "colab": {
          "base_uri": "https://localhost:8080/"
        },
        "outputId": "36f8afc9-6d80-4c4b-db7c-53a0848bdec9"
      },
      "execution_count": null,
      "outputs": [
        {
          "output_type": "stream",
          "name": "stdout",
          "text": [
            "Epoch 1/20\n",
            "2529/2529 [==============================] - 158s 61ms/step - loss: 0.6505 - auc: 0.6683 - val_loss: 0.5254 - val_auc: 0.6633\n",
            "Epoch 2/20\n",
            "2529/2529 [==============================] - 157s 62ms/step - loss: 0.6132 - auc: 0.7245 - val_loss: 0.6888 - val_auc: 0.6674\n",
            "Epoch 3/20\n",
            "2529/2529 [==============================] - 163s 65ms/step - loss: 0.6104 - auc: 0.7283 - val_loss: 0.6862 - val_auc: 0.6804\n",
            "Epoch 4/20\n",
            "2529/2529 [==============================] - 159s 63ms/step - loss: 0.6120 - auc: 0.7279 - val_loss: 0.6303 - val_auc: 0.7116\n",
            "Epoch 5/20\n",
            "2529/2529 [==============================] - 162s 64ms/step - loss: 0.6105 - auc: 0.7273 - val_loss: 0.7488 - val_auc: 0.7117\n",
            "Epoch 6/20\n",
            "2529/2529 [==============================] - 167s 66ms/step - loss: 0.6063 - auc: 0.7363 - val_loss: 0.6970 - val_auc: 0.6894\n",
            "Epoch 7/20\n",
            "2529/2529 [==============================] - 167s 66ms/step - loss: 0.5972 - auc: 0.7466 - val_loss: 0.5665 - val_auc: 0.7201\n",
            "Epoch 8/20\n",
            "2529/2529 [==============================] - 160s 63ms/step - loss: 0.5762 - auc: 0.7695 - val_loss: 0.6249 - val_auc: 0.7036\n",
            "Epoch 9/20\n",
            "2529/2529 [==============================] - 158s 62ms/step - loss: 0.5693 - auc: 0.7774 - val_loss: 0.7243 - val_auc: 0.7076\n",
            "Epoch 10/20\n",
            "2529/2529 [==============================] - 170s 67ms/step - loss: 0.5811 - auc: 0.7656 - val_loss: 0.5459 - val_auc: 0.7449\n",
            "Epoch 11/20\n",
            "2529/2529 [==============================] - 169s 67ms/step - loss: 0.5752 - auc: 0.7728 - val_loss: 0.4400 - val_auc: 0.7150\n",
            "Epoch 12/20\n",
            "2529/2529 [==============================] - 165s 65ms/step - loss: 0.5777 - auc: 0.7706 - val_loss: 0.7017 - val_auc: 0.7359\n",
            "Epoch 13/20\n",
            "2529/2529 [==============================] - 169s 67ms/step - loss: 0.5754 - auc: 0.7732 - val_loss: 0.9308 - val_auc: 0.7260\n",
            "Epoch 14/20\n",
            "2529/2529 [==============================] - 165s 65ms/step - loss: 0.5836 - auc: 0.7619 - val_loss: 0.5025 - val_auc: 0.6845\n",
            "Epoch 15/20\n",
            "2529/2529 [==============================] - 164s 65ms/step - loss: 0.6028 - auc: 0.7427 - val_loss: 0.8004 - val_auc: 0.7095\n",
            "Epoch 16/20\n",
            "2529/2529 [==============================] - 173s 68ms/step - loss: 0.5973 - auc: 0.7511 - val_loss: 0.5311 - val_auc: 0.7039\n",
            "Epoch 17/20\n",
            "2529/2529 [==============================] - 171s 68ms/step - loss: 0.5873 - auc: 0.7621 - val_loss: 0.5685 - val_auc: 0.7053\n",
            "Epoch 18/20\n",
            "2529/2529 [==============================] - 161s 64ms/step - loss: 0.5829 - auc: 0.7653 - val_loss: 0.9008 - val_auc: 0.6884\n",
            "Epoch 19/20\n",
            "2529/2529 [==============================] - 163s 64ms/step - loss: 0.5806 - auc: 0.7651 - val_loss: 0.9434 - val_auc: 0.7129\n",
            "Epoch 20/20\n",
            "2529/2529 [==============================] - 168s 66ms/step - loss: 0.5812 - auc: 0.7652 - val_loss: 0.8003 - val_auc: 0.7291\n"
          ]
        },
        {
          "output_type": "execute_result",
          "data": {
            "text/plain": [
              "<keras.callbacks.History at 0x7f5837ddb610>"
            ]
          },
          "metadata": {},
          "execution_count": 45
        }
      ]
    },
    {
      "cell_type": "markdown",
      "source": [
        "**Predictoin And Submission**\n"
      ],
      "metadata": {
        "id": "g4BZekIsdQGQ"
      }
    },
    {
      "cell_type": "code",
      "source": [
        "#make prediction on test data by using the trained model \n",
        "y_pred_5 = model_5.predict(gen_batch(testing_set, batch_size=16, shuffle=False))\n",
        "y_pred_5 = np.reshape(y_pred_5, -1)\n",
        "     "
      ],
      "metadata": {
        "id": "sYBS0e2sdRhr",
        "colab": {
          "base_uri": "https://localhost:8080/"
        },
        "outputId": "2143bc66-8506-4ddf-bc51-7d402787c5c9"
      },
      "execution_count": null,
      "outputs": [
        {
          "output_type": "stream",
          "name": "stdout",
          "text": [
            "771/771 [==============================] - 14s 18ms/step\n"
          ]
        }
      ]
    },
    {
      "cell_type": "code",
      "source": [
        "len(y_pred_5)"
      ],
      "metadata": {
        "id": "p47w4p6VdT4D",
        "colab": {
          "base_uri": "https://localhost:8080/"
        },
        "outputId": "884177e8-aa2c-425c-cf18-e5e7b978dfc3"
      },
      "execution_count": null,
      "outputs": [
        {
          "output_type": "execute_result",
          "data": {
            "text/plain": [
              "12326"
            ]
          },
          "metadata": {},
          "execution_count": 47
        }
      ]
    },
    {
      "cell_type": "code",
      "source": [
        "submission = pd.DataFrame({'label':y_pred_5})\n",
        "submission.index.name = 'id'\n",
        "submission.to_csv('submission_trial_5.csv')"
      ],
      "metadata": {
        "id": "B-MrvlpDdUh8"
      },
      "execution_count": null,
      "outputs": []
    },
    {
      "cell_type": "markdown",
      "source": [
        "#***Solve Unbalanced Data***"
      ],
      "metadata": {
        "id": "0ca_ncQUdZ5H"
      }
    },
    {
      "cell_type": "code",
      "source": [
        "from sklearn.utils import resample\n",
        "#read the training data as a dataframe\n",
        "df = pd.DataFrame(training_set,columns=['Nodes','Edges','Labels']) \n",
        "df_majority = df[df['Labels']==0]  #data with majority class\n",
        "df_minority = df[df['Labels']==1]  #data with maniority class\n",
        "\n",
        "print('Shape of Unbalanced Data before Upsampling:')\n",
        "print(df_majority.shape)\n",
        "print(df_minority .shape)\n",
        "print('\\n')\n",
        "\n",
        "# Upsample minority class\n",
        "df_minority_upsampled = resample(df_minority,\n",
        "                                  # sample with replacement \n",
        "                                 replace=True, \n",
        "                                 # to match majority class                 \n",
        "                                 n_samples=len(df_majority),\n",
        "                                  # reproducible results     \n",
        "                                 random_state=42)               \n",
        "\n",
        "# Combine majority class with upsampled minority class\n",
        "df_upsampled = pd.concat([df_majority, df_minority_upsampled])\n",
        "\n",
        "# Display new class counts\n",
        "print('New class counts after Upsampling:')\n",
        "df_upsampled['Labels'].value_counts()\n",
        "     "
      ],
      "metadata": {
        "colab": {
          "base_uri": "https://localhost:8080/"
        },
        "id": "3MSde0ERddFv",
        "outputId": "0d1cb5b8-72ad-45b1-9020-c4d11bc2cc51"
      },
      "execution_count": null,
      "outputs": [
        {
          "output_type": "stream",
          "name": "stdout",
          "text": [
            "Shape of Unbalanced Data before Upsampling:\n",
            "(20226, 3)\n",
            "(1044, 3)\n",
            "\n",
            "\n",
            "New class counts after Upsampling:\n"
          ]
        },
        {
          "output_type": "execute_result",
          "data": {
            "text/plain": [
              "0    20226\n",
              "1    20226\n",
              "Name: Labels, dtype: int64"
            ]
          },
          "metadata": {},
          "execution_count": 24
        }
      ]
    },
    {
      "cell_type": "code",
      "source": [
        "\n",
        "#convert the dataframe of data to numpy array so we can deal with\n",
        "training_set= df_upsampled.to_numpy()"
      ],
      "metadata": {
        "id": "Xz4_SW1ydj7Q"
      },
      "execution_count": null,
      "outputs": []
    },
    {
      "cell_type": "markdown",
      "source": [
        "#**Trial 6 With Balanced Data**\n",
        "\n",
        "In this trial use \"message_calculation_class\": \"gnn_edge_mlp\" which configures the message passing style\n",
        "\n",
        "while checking the accurracy it's improved and became between 80 and 95 %\n",
        "\n",
        "*the accuracy on kaggle : 82.7%*"
      ],
      "metadata": {
        "id": "876LobdHdlrP"
      }
    },
    {
      "cell_type": "markdown",
      "source": [
        "**Model Structure**\n"
      ],
      "metadata": {
        "id": "uapJDcvid1JS"
      }
    },
    {
      "cell_type": "code",
      "source": [
        "#identify the 4 GNNInput inputs(data, edge, node2graph, num_graph)\n",
        "data = keras.Input(batch_shape=(None,))                           #Input layer for nodes (tokenized text data)            \n",
        "embeded = Embedding(tokenizer.num_words, 100)(data)               #embedding layer over data with each token embedded as  size vector \n",
        "# the first dim is different to the previous one. it is the total number of edges in this batch\n",
        "edge = keras.Input(batch_shape=(None, 2), dtype=tf.int32)         #Input layer for edge data         \n",
        "node2graph = keras.Input(batch_shape=(None,), dtype=tf.int32)     #Input layer for node2graph ids    \n",
        "# number of graphs (number of samples)\n",
        "num_graph = tf.reduce_max(node2graph)+1                           #number of graphs (number of samples) \n",
        "\n",
        "#gnn_input layer with inputs as defined above\n",
        "gnn_input = GNNInput(\n",
        "    node_features=embeded,\n",
        "    adjacency_lists=(edge,),\n",
        "    node_to_graph_map=node2graph, \n",
        "    num_graphs=num_graph,\n",
        ")\n",
        "\n",
        "#defining hyperparameters for GNN layer\n",
        "params = GNN.get_default_hyperparameters()\n",
        "params[\"hidden_dim\"] = 64 \n",
        "#defining hidden dimension of the gnn layer(the output of all message passing layers)                   \n",
        "params[\"message_calculation_class\"] = 'gnn_edge_mlp'\n",
        "params[\"num_aggr_MLP_hidden_layers\"] = 4\n",
        "\n",
        "#gnn layer with defined hyperparameters\n",
        "gnn_layer = GNN(params)  \n",
        "\n",
        "#gnn output layer \n",
        "gnn_out = gnn_layer(gnn_input) \n",
        "print('gnn_out', gnn_out)           \n",
        "\n",
        "\n",
        "#calculating segmented mean based on segment_ids\n",
        "avg = segment_mean(\n",
        "    data=gnn_out,\n",
        "    segment_ids=node2graph\n",
        "    )                                     \n",
        "print('mean:', avg)\n",
        "\n",
        "#final dense layer with sigmoid activation function\n",
        "pred = Dense(1, activation='sigmoid')(avg)    \n",
        "print('pred:', pred)\n",
        "\n",
        "#building model \n",
        "# input : dictionary of data,edges and node2graph\n",
        "# output: prediction value from dense layer\n",
        "\n",
        "model_6 = Model(\n",
        "    inputs={\n",
        "        'data': data, \n",
        "        'edges': edge,\n",
        "        'node2grah': node2graph,\n",
        "    },\n",
        "    outputs=pred\n",
        ")\n",
        "\n",
        "#display model summary \n",
        "model_6.summary()\n",
        "     "
      ],
      "metadata": {
        "colab": {
          "base_uri": "https://localhost:8080/"
        },
        "id": "VYVXgCPWdpHZ",
        "outputId": "f7181090-670a-45ff-c1bf-1174ed4486e1"
      },
      "execution_count": null,
      "outputs": [
        {
          "output_type": "stream",
          "name": "stdout",
          "text": [
            "gnn_out KerasTensor(type_spec=TensorSpec(shape=(None, 64), dtype=tf.float32, name=None), name='gnn_3/StatefulPartitionedCall:0', description=\"created by layer 'gnn_3'\")\n",
            "mean: KerasTensor(type_spec=TensorSpec(shape=(None, 64), dtype=tf.float32, name=None), name='tf.math.segment_mean/SegmentMean:0', description=\"created by layer 'tf.math.segment_mean'\")\n",
            "pred: KerasTensor(type_spec=TensorSpec(shape=(None, 1), dtype=tf.float32, name=None), name='dense/Sigmoid:0', description=\"created by layer 'dense'\")\n",
            "Model: \"model\"\n",
            "__________________________________________________________________________________________________\n",
            " Layer (type)                   Output Shape         Param #     Connected to                     \n",
            "==================================================================================================\n",
            " input_12 (InputLayer)          [(None,)]            0           []                               \n",
            "                                                                                                  \n",
            " input_10 (InputLayer)          [(None,)]            0           []                               \n",
            "                                                                                                  \n",
            " tf.math.reduce_max_3 (TFOpLamb  ()                  0           ['input_12[0][0]']               \n",
            " da)                                                                                              \n",
            "                                                                                                  \n",
            " embedding_3 (Embedding)        (None, 100)          50000       ['input_10[0][0]']               \n",
            "                                                                                                  \n",
            " input_11 (InputLayer)          [(None, 2)]          0           []                               \n",
            "                                                                                                  \n",
            " tf.__operators__.add_3 (TFOpLa  ()                  0           ['tf.math.reduce_max_3[0][0]']   \n",
            " mbda)                                                                                            \n",
            "                                                                                                  \n",
            " gnn_3 (GNN)                    (None, 64)           76672       ['embedding_3[0][0]',            \n",
            "                                                                  'input_11[0][0]',               \n",
            "                                                                  'input_12[0][0]',               \n",
            "                                                                  'tf.__operators__.add_3[0][0]'] \n",
            "                                                                                                  \n",
            " tf.math.segment_mean (TFOpLamb  (None, 64)          0           ['gnn_3[0][0]',                  \n",
            " da)                                                              'input_12[0][0]']               \n",
            "                                                                                                  \n",
            " dense (Dense)                  (None, 1)            65          ['tf.math.segment_mean[0][0]']   \n",
            "                                                                                                  \n",
            "==================================================================================================\n",
            "Total params: 126,737\n",
            "Trainable params: 126,737\n",
            "Non-trainable params: 0\n",
            "__________________________________________________________________________________________________\n"
          ]
        }
      ]
    },
    {
      "cell_type": "markdown",
      "source": [
        "**Compile The Model**\n"
      ],
      "metadata": {
        "id": "s2wnUCISd611"
      }
    },
    {
      "cell_type": "code",
      "source": [
        "model_6.compile(optimizer='adam', loss='BinaryCrossentropy', metrics=['AUC'])"
      ],
      "metadata": {
        "id": "--33VJjNd8Ny"
      },
      "execution_count": null,
      "outputs": []
    },
    {
      "cell_type": "markdown",
      "source": [
        "**Train The Model**\n"
      ],
      "metadata": {
        "id": "YS46E23td_BC"
      }
    },
    {
      "cell_type": "code",
      "source": [
        "batch_size = 16\n",
        "\n",
        "#math.ceil: returns the smallest integral value greater than the number\n",
        "#no. of batches for training data\n",
        "num_batchs = math.ceil(len(training_set) / batch_size) \n",
        "#no. of batches for validation data\n",
        "num_batchs_validation = math.ceil(len(validation_set) / batch_size) \n",
        "\n",
        "model_6.fit(gen_batch(training_set, batch_size=batch_size, repeat=True),\n",
        "    steps_per_epoch=num_batchs,\n",
        "    epochs=20,\n",
        "    validation_data=gen_batch(validation_set, batch_size=16, repeat=True),\n",
        "    validation_steps=num_batchs_validation)"
      ],
      "metadata": {
        "colab": {
          "base_uri": "https://localhost:8080/"
        },
        "id": "9oHGMQaRd92D",
        "outputId": "1d5f4510-af08-4933-d5e2-2c09f6f6c38e"
      },
      "execution_count": null,
      "outputs": [
        {
          "output_type": "stream",
          "name": "stdout",
          "text": [
            "Epoch 1/20\n",
            "2530/2530 [==============================] - 95s 36ms/step - loss: 0.6090 - auc: 0.7323 - val_loss: 0.6669 - val_auc: 0.7224\n",
            "Epoch 2/20\n",
            "2530/2530 [==============================] - 89s 35ms/step - loss: 0.5733 - auc: 0.7722 - val_loss: 0.5819 - val_auc: 0.7362\n",
            "Epoch 3/20\n",
            "2530/2530 [==============================] - 90s 36ms/step - loss: 0.5381 - auc: 0.8068 - val_loss: 0.5461 - val_auc: 0.7547\n",
            "Epoch 4/20\n",
            "2530/2530 [==============================] - 88s 35ms/step - loss: 0.5092 - auc: 0.8309 - val_loss: 0.5015 - val_auc: 0.7579\n",
            "Epoch 5/20\n",
            "2530/2530 [==============================] - 89s 35ms/step - loss: 0.4880 - auc: 0.8474 - val_loss: 0.5768 - val_auc: 0.7685\n",
            "Epoch 6/20\n",
            "2530/2530 [==============================] - 91s 36ms/step - loss: 0.4568 - auc: 0.8681 - val_loss: 0.5171 - val_auc: 0.7895\n",
            "Epoch 7/20\n",
            "2530/2530 [==============================] - 91s 36ms/step - loss: 0.4286 - auc: 0.8851 - val_loss: 0.4916 - val_auc: 0.7980\n",
            "Epoch 8/20\n",
            "2530/2530 [==============================] - 93s 37ms/step - loss: 0.4025 - auc: 0.8993 - val_loss: 0.6626 - val_auc: 0.7844\n",
            "Epoch 9/20\n",
            "2530/2530 [==============================] - 88s 35ms/step - loss: 0.3796 - auc: 0.9105 - val_loss: 0.5417 - val_auc: 0.7930\n",
            "Epoch 10/20\n",
            "2530/2530 [==============================] - 89s 35ms/step - loss: 0.3655 - auc: 0.9171 - val_loss: 0.5339 - val_auc: 0.7893\n",
            "Epoch 11/20\n",
            "2530/2530 [==============================] - 88s 35ms/step - loss: 0.3481 - auc: 0.9246 - val_loss: 0.5537 - val_auc: 0.7968\n",
            "Epoch 12/20\n",
            "2530/2530 [==============================] - 88s 35ms/step - loss: 0.3332 - auc: 0.9311 - val_loss: 0.5460 - val_auc: 0.7955\n",
            "Epoch 13/20\n",
            "2530/2530 [==============================] - 94s 37ms/step - loss: 0.3228 - auc: 0.9349 - val_loss: 0.5631 - val_auc: 0.7849\n",
            "Epoch 14/20\n",
            "2530/2530 [==============================] - 90s 35ms/step - loss: 0.3118 - auc: 0.9394 - val_loss: 0.5167 - val_auc: 0.7979\n",
            "Epoch 15/20\n",
            "2530/2530 [==============================] - 89s 35ms/step - loss: 0.2973 - auc: 0.9446 - val_loss: 0.5299 - val_auc: 0.7884\n",
            "Epoch 16/20\n",
            "2530/2530 [==============================] - 89s 35ms/step - loss: 0.2848 - auc: 0.9487 - val_loss: 0.4348 - val_auc: 0.7991\n",
            "Epoch 17/20\n",
            "2530/2530 [==============================] - 89s 35ms/step - loss: 0.2746 - auc: 0.9524 - val_loss: 0.4906 - val_auc: 0.7879\n",
            "Epoch 18/20\n",
            "2530/2530 [==============================] - 89s 35ms/step - loss: 0.2654 - auc: 0.9556 - val_loss: 0.5111 - val_auc: 0.7882\n",
            "Epoch 19/20\n",
            "2530/2530 [==============================] - 88s 35ms/step - loss: 0.2585 - auc: 0.9575 - val_loss: 0.5203 - val_auc: 0.7907\n",
            "Epoch 20/20\n",
            "2530/2530 [==============================] - 87s 35ms/step - loss: 0.2503 - auc: 0.9598 - val_loss: 0.4299 - val_auc: 0.7824\n"
          ]
        },
        {
          "output_type": "execute_result",
          "data": {
            "text/plain": [
              "<keras.callbacks.History at 0x7fd798bfb070>"
            ]
          },
          "metadata": {},
          "execution_count": 47
        }
      ]
    },
    {
      "cell_type": "markdown",
      "source": [
        "**Predictoin And Submission**\n"
      ],
      "metadata": {
        "id": "y9b8yPtseEQW"
      }
    },
    {
      "cell_type": "code",
      "source": [
        "\n",
        "#make prediction on test data by using the trained model \n",
        "y_pred_6 = model_6.predict(gen_batch(testing_set, batch_size=16, shuffle=False))\n",
        "y_pred_6 = np.reshape(y_pred_6, -1)"
      ],
      "metadata": {
        "colab": {
          "base_uri": "https://localhost:8080/"
        },
        "id": "HSmbRhzyeC3O",
        "outputId": "555da987-8968-413f-c588-015f6557d275"
      },
      "execution_count": null,
      "outputs": [
        {
          "output_type": "stream",
          "name": "stdout",
          "text": [
            "771/771 [==============================] - 9s 11ms/step\n"
          ]
        }
      ]
    },
    {
      "cell_type": "code",
      "source": [
        "len(y_pred_6)"
      ],
      "metadata": {
        "colab": {
          "base_uri": "https://localhost:8080/"
        },
        "id": "dOu4n1cveG7n",
        "outputId": "57c37b5c-43e1-4d6b-9364-a6372812911b"
      },
      "execution_count": null,
      "outputs": [
        {
          "output_type": "execute_result",
          "data": {
            "text/plain": [
              "12326"
            ]
          },
          "metadata": {},
          "execution_count": 49
        }
      ]
    },
    {
      "cell_type": "code",
      "source": [
        "submission = pd.DataFrame({'label':y_pred_6})\n",
        "submission.index.name = 'id'\n",
        "submission.to_csv('submission_trial_6.csv')"
      ],
      "metadata": {
        "id": "z-liKy4neIva"
      },
      "execution_count": null,
      "outputs": []
    },
    {
      "cell_type": "markdown",
      "source": [
        "#**Trial 7 With Balanced Data**\n",
        "in this trial use \"message_calculation_class\" ='GNN_FiLM' and \"film_parameter_MLP_hidden_layers\" \n",
        "\n",
        "while checking the accurracy it's improved and became between 80 and 97 %\n",
        "\n",
        "*the accuracy on kaggle :86.8%*\n",
        "\n",
        "\n",
        "*which is a good model* "
      ],
      "metadata": {
        "id": "d1NSuoDcesDV"
      }
    },
    {
      "cell_type": "markdown",
      "source": [
        "**Model Structure**\n"
      ],
      "metadata": {
        "id": "XvjkFERIe23o"
      }
    },
    {
      "cell_type": "code",
      "source": [
        "#identify the 4 GNNInput inputs(data, edge, node2graph, num_graph)\n",
        "#Input layer for nodes (tokenized text data)\n",
        "data = keras.Input(batch_shape=(None,))\n",
        "#embedding layer over data with each token embedded as  size vector \n",
        "#the first dim is different to the previous one. it is the total number of edges in this batch\n",
        "embeded = Embedding(tokenizer.num_words, 100)(data)              \n",
        "#Input layer for edge data \n",
        "edge = keras.Input(batch_shape=(None, 2), dtype=tf.int32)         \n",
        "#Input layer for node2graph ids         \n",
        "node2graph = keras.Input(batch_shape=(None,), dtype=tf.int32)        \n",
        "# number of graphs (number of samples)\n",
        "num_graph = tf.reduce_max(node2graph)+1                           \n",
        "#gnn_input layer with inputs as defined above\n",
        "gnn_input = GNNInput(\n",
        "    node_features=embeded,\n",
        "    adjacency_lists=(edge,),\n",
        "    node_to_graph_map=node2graph, \n",
        "    num_graphs=num_graph,\n",
        ")\n",
        "\n",
        "#defining hyperparameters for GNN layer\n",
        "params = GNN.get_default_hyperparameters()\n",
        "params[\"hidden_dim\"] = 64\n",
        "#defining hidden dimension of the gnn layer(the output of all message passing layers)\n",
        "params[\"film_parameter_MLP_hidden_layers\"] = 1\n",
        "params[\"message_calculation_class\"] ='GNN_FiLM'\n",
        "\n",
        "#gnn layer with defined hyperparameters\n",
        "gnn_layer = GNN(params)  \n",
        "\n",
        "#gnn output layer \n",
        "gnn_out = gnn_layer(gnn_input) \n",
        "print('gnn_out', gnn_out)           \n",
        "\n",
        "#calculating segmented mean based on segment_ids\n",
        "avg = segment_mean(\n",
        "    data=gnn_out,\n",
        "    segment_ids=node2graph\n",
        "    )                                     \n",
        "print('mean:', avg)\n",
        "\n",
        "#final dense layer with sigmoid activation function\n",
        "pred = Dense(1, activation='sigmoid')(avg)    \n",
        "print('pred:', pred)\n",
        "\n",
        "#building model \n",
        "\"\"\"\n",
        "input : dictionary of data,edges and node2graph\n",
        "output: prediction value from dense layer\n",
        "\"\"\"\n",
        "model_7 = Model(\n",
        "    inputs={\n",
        "        'data': data, \n",
        "        'edges': edge,\n",
        "        'node2grah': node2graph,\n",
        "    },\n",
        "    outputs=pred\n",
        ")\n",
        "\n",
        "#display model summary \n",
        "model_7.summary()\n",
        "     "
      ],
      "metadata": {
        "id": "kxg944spey86",
        "colab": {
          "base_uri": "https://localhost:8080/"
        },
        "outputId": "e7d89014-6ffb-4d91-acf0-987e945923e6"
      },
      "execution_count": null,
      "outputs": [
        {
          "output_type": "stream",
          "name": "stdout",
          "text": [
            "gnn_out KerasTensor(type_spec=TensorSpec(shape=(None, 64), dtype=tf.float32, name=None), name='gnn_4/StatefulPartitionedCall:0', description=\"created by layer 'gnn_4'\")\n",
            "mean: KerasTensor(type_spec=TensorSpec(shape=(None, 64), dtype=tf.float32, name=None), name='tf.math.segment_mean_1/SegmentMean:0', description=\"created by layer 'tf.math.segment_mean_1'\")\n",
            "pred: KerasTensor(type_spec=TensorSpec(shape=(None, 1), dtype=tf.float32, name=None), name='dense_1/Sigmoid:0', description=\"created by layer 'dense_1'\")\n",
            "Model: \"model_1\"\n",
            "__________________________________________________________________________________________________\n",
            " Layer (type)                   Output Shape         Param #     Connected to                     \n",
            "==================================================================================================\n",
            " input_15 (InputLayer)          [(None,)]            0           []                               \n",
            "                                                                                                  \n",
            " input_13 (InputLayer)          [(None,)]            0           []                               \n",
            "                                                                                                  \n",
            " tf.math.reduce_max_4 (TFOpLamb  ()                  0           ['input_15[0][0]']               \n",
            " da)                                                                                              \n",
            "                                                                                                  \n",
            " embedding_4 (Embedding)        (None, 100)          50000       ['input_13[0][0]']               \n",
            "                                                                                                  \n",
            " input_14 (InputLayer)          [(None, 2)]          0           []                               \n",
            "                                                                                                  \n",
            " tf.__operators__.add_4 (TFOpLa  ()                  0           ['tf.math.reduce_max_4[0][0]']   \n",
            " mbda)                                                                                            \n",
            "                                                                                                  \n",
            " gnn_4 (GNN)                    (None, 64)           174976      ['embedding_4[0][0]',            \n",
            "                                                                  'input_14[0][0]',               \n",
            "                                                                  'input_15[0][0]',               \n",
            "                                                                  'tf.__operators__.add_4[0][0]'] \n",
            "                                                                                                  \n",
            " tf.math.segment_mean_1 (TFOpLa  (None, 64)          0           ['gnn_4[0][0]',                  \n",
            " mbda)                                                            'input_15[0][0]']               \n",
            "                                                                                                  \n",
            " dense_1 (Dense)                (None, 1)            65          ['tf.math.segment_mean_1[0][0]'] \n",
            "                                                                                                  \n",
            "==================================================================================================\n",
            "Total params: 225,041\n",
            "Trainable params: 225,041\n",
            "Non-trainable params: 0\n",
            "__________________________________________________________________________________________________\n"
          ]
        }
      ]
    },
    {
      "cell_type": "markdown",
      "source": [
        "**Compile The Model**\n"
      ],
      "metadata": {
        "id": "oFZ7QLsTe7mp"
      }
    },
    {
      "cell_type": "code",
      "source": [
        "model_7.compile(optimizer='adam',loss='BinaryCrossentropy', metrics=['AUC'])"
      ],
      "metadata": {
        "id": "6t8wRXave-Zs"
      },
      "execution_count": null,
      "outputs": []
    },
    {
      "cell_type": "markdown",
      "source": [
        "**Train The Model**\n"
      ],
      "metadata": {
        "id": "P2WCqM5We_w3"
      }
    },
    {
      "cell_type": "code",
      "source": [
        "batch_size = 32\n",
        "#math.ceil: returns the smallest integral value greater than the number\n",
        "#no. of batches for training data\n",
        "num_batchs = math.ceil(len(training_set) / batch_size) \n",
        "#no. of batches for validation data\n",
        "num_batchs_validation = math.ceil(len(validation_set) / batch_size) \n",
        "\n",
        "model_7.fit(gen_batch(training_set, batch_size=batch_size, repeat=True),\n",
        "    steps_per_epoch=num_batchs,\n",
        "    epochs=20,\n",
        "    validation_data=gen_batch(validation_set, batch_size=16, repeat=True),\n",
        "    validation_steps=num_batchs_validation)\n",
        "     "
      ],
      "metadata": {
        "id": "YmhMPWOfe_Bi",
        "colab": {
          "base_uri": "https://localhost:8080/"
        },
        "outputId": "7045baa1-f6b5-4197-dcdc-8fa711db2869"
      },
      "execution_count": null,
      "outputs": [
        {
          "output_type": "stream",
          "name": "stdout",
          "text": [
            "Epoch 1/20\n",
            "1265/1265 [==============================] - 115s 83ms/step - loss: 0.5954 - auc: 0.7449 - val_loss: 0.6301 - val_auc: 0.7442\n",
            "Epoch 2/20\n",
            "1265/1265 [==============================] - 111s 88ms/step - loss: 0.5211 - auc: 0.8215 - val_loss: 0.6599 - val_auc: 0.8122\n",
            "Epoch 3/20\n",
            "1265/1265 [==============================] - 112s 89ms/step - loss: 0.4703 - auc: 0.8590 - val_loss: 0.5532 - val_auc: 0.8047\n",
            "Epoch 4/20\n",
            "1265/1265 [==============================] - 106s 84ms/step - loss: 0.4309 - auc: 0.8836 - val_loss: 0.5268 - val_auc: 0.8118\n",
            "Epoch 5/20\n",
            "1265/1265 [==============================] - 117s 93ms/step - loss: 0.3912 - auc: 0.9047 - val_loss: 0.4807 - val_auc: 0.7946\n",
            "Epoch 6/20\n",
            "1265/1265 [==============================] - 126s 99ms/step - loss: 0.3646 - auc: 0.9181 - val_loss: 0.5670 - val_auc: 0.8288\n",
            "Epoch 7/20\n",
            "1265/1265 [==============================] - 112s 88ms/step - loss: 0.3318 - auc: 0.9320 - val_loss: 0.4665 - val_auc: 0.8183\n",
            "Epoch 8/20\n",
            "1265/1265 [==============================] - 129s 102ms/step - loss: 0.3072 - auc: 0.9412 - val_loss: 0.4383 - val_auc: 0.8351\n",
            "Epoch 9/20\n",
            "1265/1265 [==============================] - 142s 112ms/step - loss: 0.2910 - auc: 0.9475 - val_loss: 0.4472 - val_auc: 0.8185\n",
            "Epoch 10/20\n",
            "1265/1265 [==============================] - 105s 83ms/step - loss: 0.2781 - auc: 0.9517 - val_loss: 0.5241 - val_auc: 0.8120\n",
            "Epoch 11/20\n",
            "1265/1265 [==============================] - 102s 81ms/step - loss: 0.2733 - auc: 0.9531 - val_loss: 0.4068 - val_auc: 0.8371\n",
            "Epoch 12/20\n",
            "1265/1265 [==============================] - 100s 79ms/step - loss: 0.2504 - auc: 0.9603 - val_loss: 0.5805 - val_auc: 0.7952\n",
            "Epoch 13/20\n",
            "1265/1265 [==============================] - 101s 80ms/step - loss: 0.2493 - auc: 0.9605 - val_loss: 0.5424 - val_auc: 0.8068\n",
            "Epoch 14/20\n",
            "1265/1265 [==============================] - 100s 79ms/step - loss: 0.2320 - auc: 0.9649 - val_loss: 0.5143 - val_auc: 0.8776\n",
            "Epoch 15/20\n",
            "1265/1265 [==============================] - 100s 79ms/step - loss: 0.2219 - auc: 0.9680 - val_loss: 0.4866 - val_auc: 0.8044\n",
            "Epoch 16/20\n",
            "1265/1265 [==============================] - 101s 80ms/step - loss: 0.2320 - auc: 0.9654 - val_loss: 0.5164 - val_auc: 0.8452\n",
            "Epoch 17/20\n",
            "1265/1265 [==============================] - 99s 79ms/step - loss: 0.2156 - auc: 0.9695 - val_loss: 0.4928 - val_auc: 0.8498\n",
            "Epoch 18/20\n",
            "1265/1265 [==============================] - 101s 80ms/step - loss: 0.1996 - auc: 0.9735 - val_loss: 0.4484 - val_auc: 0.8400\n",
            "Epoch 19/20\n",
            "1265/1265 [==============================] - 100s 79ms/step - loss: 0.1942 - auc: 0.9745 - val_loss: 0.5384 - val_auc: 0.8309\n",
            "Epoch 20/20\n",
            "1265/1265 [==============================] - 104s 82ms/step - loss: 0.1906 - auc: 0.9756 - val_loss: 0.4583 - val_auc: 0.8492\n"
          ]
        },
        {
          "output_type": "execute_result",
          "data": {
            "text/plain": [
              "<keras.callbacks.History at 0x7f583fb17640>"
            ]
          },
          "metadata": {},
          "execution_count": 30
        }
      ]
    },
    {
      "cell_type": "markdown",
      "source": [
        "**Predictoin And Submission**\n"
      ],
      "metadata": {
        "id": "EPX1LnEhfDhl"
      }
    },
    {
      "cell_type": "code",
      "source": [
        "#make prediction on test data by using the trained model \n",
        "y_pred_7 = model_7.predict(gen_batch(testing_set, batch_size=16, shuffle=False))\n",
        "y_pred_7 = np.reshape(y_pred_7, -1)"
      ],
      "metadata": {
        "id": "ALiHxm7hfFqr",
        "colab": {
          "base_uri": "https://localhost:8080/"
        },
        "outputId": "687815fd-d020-4780-9e92-19d15cc1fce9"
      },
      "execution_count": null,
      "outputs": [
        {
          "output_type": "stream",
          "name": "stdout",
          "text": [
            "771/771 [==============================] - 9s 12ms/step\n"
          ]
        }
      ]
    },
    {
      "cell_type": "code",
      "source": [
        "len(y_pred_7)"
      ],
      "metadata": {
        "id": "Bd2-ghDOfHcF",
        "colab": {
          "base_uri": "https://localhost:8080/"
        },
        "outputId": "778ac922-3ce7-4863-b0de-2dd4791aeb4e"
      },
      "execution_count": null,
      "outputs": [
        {
          "output_type": "execute_result",
          "data": {
            "text/plain": [
              "12326"
            ]
          },
          "metadata": {},
          "execution_count": 32
        }
      ]
    },
    {
      "cell_type": "code",
      "source": [
        "submission = pd.DataFrame({'label':y_pred_7})\n",
        "submission.index.name = 'id'\n",
        "submission.to_csv('submission_trial_7.csv')"
      ],
      "metadata": {
        "id": "r7qumdfxfIp0"
      },
      "execution_count": null,
      "outputs": []
    },
    {
      "cell_type": "markdown",
      "source": [
        "#**Trial 8 With Balanced Data**\n",
        "in this trial use \"message_calculation_class\" ='GNN_FiLM' but different hyperparameaters and after checking the accurracy it's between 90 and 97%\n",
        "\n",
        "*the accuracy o kaggle : 88.1%*\n",
        "\n",
        "*which is the best model*"
      ],
      "metadata": {
        "id": "FqkBE6o7fMOg"
      }
    },
    {
      "cell_type": "markdown",
      "source": [
        "**Model Structure**\n"
      ],
      "metadata": {
        "id": "undz-kFQfWBv"
      }
    },
    {
      "cell_type": "code",
      "source": [
        "#identify the 4 GNNInput inputs(data, edge, node2graph, num_graph)\n",
        "#Input layer for nodes (tokenized text data)\n",
        "data = keras.Input(batch_shape=(None,))  \n",
        "#embedding layer over data with each token embedded as  size vector                                      \n",
        "embeded = Embedding(tokenizer.num_words, 100)(data)               \n",
        "# the first dim is different to the previous one. it is the total number of edges in this batch\n",
        "#Input layer for edge data \n",
        "edge = keras.Input(batch_shape=(None, 2), dtype=tf.int32)         \n",
        "#Input layer for node2graph ids        \n",
        "node2graph = keras.Input(batch_shape=(None,), dtype=tf.int32)         \n",
        "# number of graphs (number of samples)\n",
        "num_graph = tf.reduce_max(node2graph)+1                           \n",
        "\n",
        "#gnn_input layer with inputs as defined above\n",
        "gnn_input = GNNInput(\n",
        "    node_features=embeded,\n",
        "    adjacency_lists=(edge,),\n",
        "    node_to_graph_map=node2graph, \n",
        "    num_graphs=num_graph,\n",
        ")\n",
        "#defining hyperparameters for GNN layer\n",
        "params = GNN.get_default_hyperparameters()\n",
        "#defining hidden dimension of the gnn layer(the output of all message passing layers)\n",
        "params[\"hidden_dim\"] = 40\n",
        "params[\"film_parameter_MLP_hidden_layers\"] = 1\n",
        "params[\"message_calculation_class\"] ='GNN_FiLM'\n",
        "\n",
        "#gnn layer with defined hyperparameters\n",
        "gnn_layer = GNN(params)  \n",
        "\n",
        "#gnn output layer \n",
        "gnn_out = gnn_layer(gnn_input) \n",
        "print('gnn_out', gnn_out)           \n",
        "\n",
        "#calculating segmented mean based on segment_ids\n",
        "avg = segment_mean(\n",
        "    data=gnn_out,\n",
        "    segment_ids=node2graph\n",
        "    )                                     \n",
        "print('mean:', avg)\n",
        "\n",
        "#final dense layer with sigmoid activation function\n",
        "pred = Dense(1, activation='sigmoid')(avg)    \n",
        "print('pred:', pred)\n",
        "\n",
        "#building model \n",
        "# input : dictionary of data,edges and node2graph\n",
        "# output: prediction value from dense layer\n",
        "\n",
        "model_8 = Model(\n",
        "    inputs={\n",
        "        'data': data, \n",
        "        'edges': edge,\n",
        "        'node2grah': node2graph,\n",
        "    },\n",
        "    outputs=pred\n",
        ")\n",
        "\n",
        "#display model summary \n",
        "model_8.summary()"
      ],
      "metadata": {
        "id": "pgU80RDqfPTH",
        "colab": {
          "base_uri": "https://localhost:8080/"
        },
        "outputId": "816565dd-4e13-4060-eb8d-98efa7e09a7e"
      },
      "execution_count": null,
      "outputs": [
        {
          "output_type": "stream",
          "name": "stdout",
          "text": [
            "gnn_out KerasTensor(type_spec=TensorSpec(shape=(None, 40), dtype=tf.float32, name=None), name='gnn_8/StatefulPartitionedCall:0', description=\"created by layer 'gnn_8'\")\n",
            "mean: KerasTensor(type_spec=TensorSpec(shape=(None, 40), dtype=tf.float32, name=None), name='tf.math.segment_mean_2/SegmentMean:0', description=\"created by layer 'tf.math.segment_mean_2'\")\n",
            "pred: KerasTensor(type_spec=TensorSpec(shape=(None, 1), dtype=tf.float32, name=None), name='dense_2/Sigmoid:0', description=\"created by layer 'dense_2'\")\n",
            "Model: \"model_2\"\n",
            "__________________________________________________________________________________________________\n",
            " Layer (type)                   Output Shape         Param #     Connected to                     \n",
            "==================================================================================================\n",
            " input_27 (InputLayer)          [(None,)]            0           []                               \n",
            "                                                                                                  \n",
            " input_25 (InputLayer)          [(None,)]            0           []                               \n",
            "                                                                                                  \n",
            " tf.math.reduce_max_8 (TFOpLamb  ()                  0           ['input_27[0][0]']               \n",
            " da)                                                                                              \n",
            "                                                                                                  \n",
            " embedding_8 (Embedding)        (None, 100)          50000       ['input_25[0][0]']               \n",
            "                                                                                                  \n",
            " input_26 (InputLayer)          [(None, 2)]          0           []                               \n",
            "                                                                                                  \n",
            " tf.__operators__.add_8 (TFOpLa  ()                  0           ['tf.math.reduce_max_8[0][0]']   \n",
            " mbda)                                                                                            \n",
            "                                                                                                  \n",
            " gnn_8 (GNN)                    (None, 40)           73840       ['embedding_8[0][0]',            \n",
            "                                                                  'input_26[0][0]',               \n",
            "                                                                  'input_27[0][0]',               \n",
            "                                                                  'tf.__operators__.add_8[0][0]'] \n",
            "                                                                                                  \n",
            " tf.math.segment_mean_2 (TFOpLa  (None, 40)          0           ['gnn_8[0][0]',                  \n",
            " mbda)                                                            'input_27[0][0]']               \n",
            "                                                                                                  \n",
            " dense_2 (Dense)                (None, 1)            41          ['tf.math.segment_mean_2[0][0]'] \n",
            "                                                                                                  \n",
            "==================================================================================================\n",
            "Total params: 123,881\n",
            "Trainable params: 123,881\n",
            "Non-trainable params: 0\n",
            "__________________________________________________________________________________________________\n"
          ]
        }
      ]
    },
    {
      "cell_type": "markdown",
      "source": [
        "**Compile The Model**\n"
      ],
      "metadata": {
        "id": "gLBkK3IVfbh4"
      }
    },
    {
      "cell_type": "code",
      "source": [
        "model_8.compile(optimizer=keras.optimizers.Adam(),loss='BinaryCrossentropy',metrics=['AUC'])"
      ],
      "metadata": {
        "id": "M-WMiPGrfaQH"
      },
      "execution_count": null,
      "outputs": []
    },
    {
      "cell_type": "markdown",
      "source": [
        "**Train The Model**\n"
      ],
      "metadata": {
        "id": "mAPuEsdXfgyK"
      }
    },
    {
      "cell_type": "code",
      "source": [
        "batch_size = 32\n",
        "\n",
        "#math.ceil: returns the smallest integral value greater than the number\n",
        "num_batchs            = math.ceil(len(training_set) / batch_size)   #no. of batches for training data\n",
        "num_batchs_validation = math.ceil(len(validation_set) / batch_size) #no. of batches for validation data\n",
        "\n",
        "model_8.fit(\n",
        "    gen_batch(training_set, batch_size=batch_size, repeat=True),\n",
        "    steps_per_epoch=num_batchs,\n",
        "    validation_data=gen_batch(validation_set, batch_size=batch_size, repeat=True),\n",
        "    validation_steps=num_batchs_validation,\n",
        "     epochs=20,\n",
        ")"
      ],
      "metadata": {
        "id": "VZFfJz_vficL",
        "colab": {
          "base_uri": "https://localhost:8080/"
        },
        "outputId": "2c3a03fd-f1f9-462a-de85-d147f5eeb7d4"
      },
      "execution_count": null,
      "outputs": [
        {
          "output_type": "stream",
          "name": "stdout",
          "text": [
            "Epoch 1/20\n",
            "1265/1265 [==============================] - 80s 58ms/step - loss: 0.5923 - auc: 0.7493 - val_loss: 0.5977 - val_auc: 0.7798\n",
            "Epoch 2/20\n",
            "1265/1265 [==============================] - 81s 64ms/step - loss: 0.5063 - auc: 0.8335 - val_loss: 0.5379 - val_auc: 0.7791\n",
            "Epoch 3/20\n",
            "1265/1265 [==============================] - 82s 65ms/step - loss: 0.4517 - auc: 0.8711 - val_loss: 0.3806 - val_auc: 0.7967\n",
            "Epoch 4/20\n",
            "1265/1265 [==============================] - 81s 64ms/step - loss: 0.4080 - auc: 0.8961 - val_loss: 0.4744 - val_auc: 0.8052\n",
            "Epoch 5/20\n",
            "1265/1265 [==============================] - 79s 63ms/step - loss: 0.3721 - auc: 0.9146 - val_loss: 0.5374 - val_auc: 0.8195\n",
            "Epoch 6/20\n",
            "1265/1265 [==============================] - 72s 57ms/step - loss: 0.3451 - auc: 0.9258 - val_loss: 0.4415 - val_auc: 0.8234\n",
            "Epoch 7/20\n",
            "1265/1265 [==============================] - 83s 65ms/step - loss: 0.3201 - auc: 0.9357 - val_loss: 0.4694 - val_auc: 0.8160\n",
            "Epoch 8/20\n",
            "1265/1265 [==============================] - 81s 64ms/step - loss: 0.2962 - auc: 0.9451 - val_loss: 0.4865 - val_auc: 0.8290\n",
            "Epoch 9/20\n",
            "1265/1265 [==============================] - 81s 64ms/step - loss: 0.2787 - auc: 0.9510 - val_loss: 0.5358 - val_auc: 0.8274\n",
            "Epoch 10/20\n",
            "1265/1265 [==============================] - 77s 61ms/step - loss: 0.2803 - auc: 0.9508 - val_loss: 0.3659 - val_auc: 0.8317\n",
            "Epoch 11/20\n",
            "1265/1265 [==============================] - 72s 57ms/step - loss: 0.2568 - auc: 0.9575 - val_loss: 0.3986 - val_auc: 0.8334\n",
            "Epoch 12/20\n",
            "1265/1265 [==============================] - 72s 57ms/step - loss: 0.2386 - auc: 0.9630 - val_loss: 0.3862 - val_auc: 0.8242\n",
            "Epoch 13/20\n",
            "1265/1265 [==============================] - 72s 57ms/step - loss: 0.2369 - auc: 0.9634 - val_loss: 0.4757 - val_auc: 0.8399\n",
            "Epoch 14/20\n",
            "1265/1265 [==============================] - 69s 55ms/step - loss: 0.2256 - auc: 0.9666 - val_loss: 0.4056 - val_auc: 0.8388\n",
            "Epoch 15/20\n",
            "1265/1265 [==============================] - 69s 54ms/step - loss: 0.2122 - auc: 0.9697 - val_loss: 0.3996 - val_auc: 0.8335\n",
            "Epoch 16/20\n",
            "1265/1265 [==============================] - 70s 55ms/step - loss: 0.2050 - auc: 0.9715 - val_loss: 0.4213 - val_auc: 0.8438\n",
            "Epoch 17/20\n",
            "1265/1265 [==============================] - 69s 55ms/step - loss: 0.2062 - auc: 0.9714 - val_loss: 0.3865 - val_auc: 0.8421\n",
            "Epoch 18/20\n",
            "1265/1265 [==============================] - 69s 55ms/step - loss: 0.1917 - auc: 0.9747 - val_loss: 0.4828 - val_auc: 0.8303\n",
            "Epoch 19/20\n",
            "1265/1265 [==============================] - 69s 55ms/step - loss: 0.1878 - auc: 0.9759 - val_loss: 0.4532 - val_auc: 0.8480\n",
            "Epoch 20/20\n",
            "1265/1265 [==============================] - 69s 55ms/step - loss: 0.1808 - auc: 0.9775 - val_loss: 0.4562 - val_auc: 0.8317\n"
          ]
        },
        {
          "output_type": "execute_result",
          "data": {
            "text/plain": [
              "<keras.callbacks.History at 0x7f5855137fd0>"
            ]
          },
          "metadata": {},
          "execution_count": 39
        }
      ]
    },
    {
      "cell_type": "markdown",
      "source": [
        "**Predictoin And Submission**\n"
      ],
      "metadata": {
        "id": "GxFXGeZDfl3e"
      }
    },
    {
      "cell_type": "code",
      "source": [
        "#make prediction on test data by using the trained model \n",
        "y_pred_8 = model_8.predict(gen_batch(testing_set, batch_size=16, shuffle=False))\n",
        "y_pred_8 = np.reshape(y_pred_8, -1)"
      ],
      "metadata": {
        "id": "06MCAgxEfn0h",
        "colab": {
          "base_uri": "https://localhost:8080/"
        },
        "outputId": "af446a92-ef60-4f7e-e398-bb8b38a99bd9"
      },
      "execution_count": null,
      "outputs": [
        {
          "output_type": "stream",
          "name": "stdout",
          "text": [
            "771/771 [==============================] - 8s 10ms/step\n"
          ]
        }
      ]
    },
    {
      "cell_type": "code",
      "source": [
        "len(y_pred_8)"
      ],
      "metadata": {
        "id": "-iHm3z-ofpcy",
        "colab": {
          "base_uri": "https://localhost:8080/"
        },
        "outputId": "83799995-7fb6-4525-e38b-e5f8443abcfc"
      },
      "execution_count": null,
      "outputs": [
        {
          "output_type": "execute_result",
          "data": {
            "text/plain": [
              "12326"
            ]
          },
          "metadata": {},
          "execution_count": 41
        }
      ]
    },
    {
      "cell_type": "code",
      "source": [
        "submission = pd.DataFrame({'label':y_pred_8})\n",
        "submission.index.name = 'id'\n",
        "submission.to_csv('submission_trial_8.csv')"
      ],
      "metadata": {
        "id": "_JeAGhlTfqwG"
      },
      "execution_count": null,
      "outputs": []
    },
    {
      "cell_type": "markdown",
      "source": [
        "#**Trial 9 With Balanced Data**\n",
        "in this trial use as the second trial but after balance the data    \n",
        "\n",
        "the accurracy became between 80 and 95 % but not stable\n",
        "\n",
        "*the accuracy on kaggle : 84.9%*"
      ],
      "metadata": {
        "id": "w3ZVzXh1ftYR"
      }
    },
    {
      "cell_type": "markdown",
      "source": [
        "**Model Structure**\n"
      ],
      "metadata": {
        "id": "5pdsdpoPfxhO"
      }
    },
    {
      "cell_type": "code",
      "source": [
        "#Input layer for nodes (tokenized text data)          \n",
        "data = keras.Input(batch_shape=(None,)) \n",
        "# the first dim is different to the previous one. it is the total number of edges in this batch\n",
        "#Input layer for edge data        \n",
        "edge = keras.Input(batch_shape=(None, 2), dtype=tf.int32)   \n",
        "#Input layer for node2graph ids    \n",
        "node2graph = keras.Input(batch_shape=(None,), dtype=tf.int32) \n",
        "#embedding layer over data with each token embedded as  size vector\n",
        "embeded = Embedding(tokenizer.num_words, 75)(data)  \n",
        "\n",
        "# number of graphs (number of samples)\n",
        "#calculating number of samples (or min(batch_size,no._of_samples))  \n",
        "num_graph = tf.reduce_max(node2graph)+1  \n",
        "#gnn_input layer with inputs as defined above\n",
        "gnn_input = GNNInput(\n",
        "    node_features=embeded,\n",
        "    adjacency_lists=(edge,),\n",
        "    node_to_graph_map=node2graph, \n",
        "    num_graphs=num_graph,\n",
        ")\n",
        "#defining hyperparameters for GNN layer\n",
        "params = GNN.get_default_hyperparameters()\n",
        "#defining hidden dimension of the gnn layer\n",
        "params[\"hidden_dim\"] = 32 \n",
        "params[\"message_calculation_class\"] = 'GGNN'\n",
        "#params[\"num_edge_MLP_hidden_layers\"] = 16\n",
        "#gnn layer with defined hyperparameters\n",
        "gnn_layer = GNN(params)  \n",
        "\n",
        "#gnn output layer \n",
        "#outpur shape: [data_dimension,hidden layers]  \n",
        "gnn_out = gnn_layer(gnn_input) \n",
        "\n",
        "print('gnn_out', gnn_out)           \n",
        "\n",
        "#calculating segmented mean based on segment_ids\n",
        "avg = segment_mean(\n",
        "    data=gnn_out,\n",
        "    segment_ids=node2graph\n",
        "    )#shape: [batch_size,64] \n",
        "\n",
        "print('mean:', avg)\n",
        "\n",
        "#final dense layer with sigmoid\n",
        "#Output [None,8]\n",
        "fc1 = Dense(8,activation='relu')(avg) \n",
        "#output shape: [batch_size,1] \n",
        "pred = Dense(1, activation='sigmoid')(fc1)   \n",
        "print('pred:', pred)\n",
        "\n",
        "#building model \n",
        "#inputs are data,edges and node2graph\n",
        "#input: dictionary\n",
        "#output: prediction value from dense layer\n",
        "model_9 = Model(\n",
        "    inputs={\n",
        "        'data': data, \n",
        "        'edges': edge,\n",
        "        'node2grah': node2graph,\n",
        "    },\n",
        "    outputs=pred\n",
        ")\n",
        "\n",
        "#printing summary of the model\n",
        "model_9.summary()"
      ],
      "metadata": {
        "id": "Mny8KKFkfwMK",
        "colab": {
          "base_uri": "https://localhost:8080/"
        },
        "outputId": "085fb496-1a49-4ffe-853a-c00cc9e7aa81"
      },
      "execution_count": null,
      "outputs": [
        {
          "output_type": "stream",
          "name": "stdout",
          "text": [
            "gnn_out KerasTensor(type_spec=TensorSpec(shape=(None, 32), dtype=tf.float32, name=None), name='gnn_10/StatefulPartitionedCall:0', description=\"created by layer 'gnn_10'\")\n",
            "mean: KerasTensor(type_spec=TensorSpec(shape=(None, 32), dtype=tf.float32, name=None), name='tf.math.segment_mean_4/SegmentMean:0', description=\"created by layer 'tf.math.segment_mean_4'\")\n",
            "pred: KerasTensor(type_spec=TensorSpec(shape=(None, 1), dtype=tf.float32, name=None), name='dense_6/Sigmoid:0', description=\"created by layer 'dense_6'\")\n",
            "Model: \"model_4\"\n",
            "__________________________________________________________________________________________________\n",
            " Layer (type)                   Output Shape         Param #     Connected to                     \n",
            "==================================================================================================\n",
            " input_33 (InputLayer)          [(None,)]            0           []                               \n",
            "                                                                                                  \n",
            " input_31 (InputLayer)          [(None,)]            0           []                               \n",
            "                                                                                                  \n",
            " tf.math.reduce_max_10 (TFOpLam  ()                  0           ['input_33[0][0]']               \n",
            " bda)                                                                                             \n",
            "                                                                                                  \n",
            " embedding_10 (Embedding)       (None, 75)           37500       ['input_31[0][0]']               \n",
            "                                                                                                  \n",
            " input_32 (InputLayer)          [(None, 2)]          0           []                               \n",
            "                                                                                                  \n",
            " tf.__operators__.add_10 (TFOpL  ()                  0           ['tf.math.reduce_max_10[0][0]']  \n",
            " ambda)                                                                                           \n",
            "                                                                                                  \n",
            " gnn_10 (GNN)                   (None, 32)           49568       ['embedding_10[0][0]',           \n",
            "                                                                  'input_32[0][0]',               \n",
            "                                                                  'input_33[0][0]',               \n",
            "                                                                  'tf.__operators__.add_10[0][0]']\n",
            "                                                                                                  \n",
            " tf.math.segment_mean_4 (TFOpLa  (None, 32)          0           ['gnn_10[0][0]',                 \n",
            " mbda)                                                            'input_33[0][0]']               \n",
            "                                                                                                  \n",
            " dense_5 (Dense)                (None, 8)            264         ['tf.math.segment_mean_4[0][0]'] \n",
            "                                                                                                  \n",
            " dense_6 (Dense)                (None, 1)            9           ['dense_5[0][0]']                \n",
            "                                                                                                  \n",
            "==================================================================================================\n",
            "Total params: 87,341\n",
            "Trainable params: 87,341\n",
            "Non-trainable params: 0\n",
            "__________________________________________________________________________________________________\n"
          ]
        }
      ]
    },
    {
      "cell_type": "markdown",
      "source": [
        "**Compile The Model**\n"
      ],
      "metadata": {
        "id": "bEW37U_lf3H2"
      }
    },
    {
      "cell_type": "code",
      "source": [
        "model_9.compile(optimizer='adam',loss='BinaryCrossentropy', metrics=['AUC'])\n"
      ],
      "metadata": {
        "id": "tUq8Gf2Bf4ed"
      },
      "execution_count": null,
      "outputs": []
    },
    {
      "cell_type": "markdown",
      "source": [
        "**Train The Model**\n"
      ],
      "metadata": {
        "id": "yIEFz0J_f6IL"
      }
    },
    {
      "cell_type": "code",
      "source": [
        "batch_size = 64\n",
        "\n",
        "#math.ceil: returns the smallest integral value greater than the number\n",
        "#no. of batches for training data\n",
        "num_batchs = math.ceil(len(training_set) / batch_size) \n",
        "#no. of batches for validation data\n",
        "num_batchs_validation = math.ceil(len(validation_set) / batch_size) \n",
        "\n",
        "model_9.fit(gen_batch(training_set, batch_size=batch_size, repeat=True),\n",
        "    steps_per_epoch=num_batchs,\n",
        "    epochs=20,\n",
        "    validation_data=gen_batch(validation_set, batch_size=16, repeat=True),\n",
        "    validation_steps=num_batchs_validation)\n",
        "     "
      ],
      "metadata": {
        "id": "sZn_aBdIf7mz",
        "colab": {
          "base_uri": "https://localhost:8080/"
        },
        "outputId": "137b3cc9-5f00-4864-b634-bd724d314c70"
      },
      "execution_count": null,
      "outputs": [
        {
          "output_type": "stream",
          "name": "stdout",
          "text": [
            "Epoch 1/20\n",
            "633/633 [==============================] - 72s 105ms/step - loss: 0.6211 - auc: 0.7048 - val_loss: 0.7995 - val_auc: 0.6492\n",
            "Epoch 2/20\n",
            "633/633 [==============================] - 66s 104ms/step - loss: 0.5828 - auc: 0.7547 - val_loss: 0.6372 - val_auc: 0.7379\n",
            "Epoch 3/20\n",
            "633/633 [==============================] - 67s 106ms/step - loss: 0.5508 - auc: 0.7919 - val_loss: 0.8384 - val_auc: 0.7529\n",
            "Epoch 4/20\n",
            "633/633 [==============================] - 66s 105ms/step - loss: 0.5127 - auc: 0.8265 - val_loss: 0.8003 - val_auc: 0.8160\n",
            "Epoch 5/20\n",
            "633/633 [==============================] - 67s 105ms/step - loss: 0.4851 - auc: 0.8477 - val_loss: 0.7800 - val_auc: 0.8230\n",
            "Epoch 6/20\n",
            "633/633 [==============================] - 67s 105ms/step - loss: 0.4541 - auc: 0.8686 - val_loss: 0.5494 - val_auc: 0.7656\n",
            "Epoch 7/20\n",
            "633/633 [==============================] - 63s 100ms/step - loss: 0.4299 - auc: 0.8832 - val_loss: 0.7223 - val_auc: 0.8216\n",
            "Epoch 8/20\n",
            "633/633 [==============================] - 64s 100ms/step - loss: 0.4093 - auc: 0.8949 - val_loss: 0.7279 - val_auc: 0.7833\n",
            "Epoch 9/20\n",
            "633/633 [==============================] - 63s 100ms/step - loss: 0.3871 - auc: 0.9062 - val_loss: 0.7275 - val_auc: 0.8086\n",
            "Epoch 10/20\n",
            "633/633 [==============================] - 63s 100ms/step - loss: 0.3655 - auc: 0.9165 - val_loss: 0.7551 - val_auc: 0.8264\n",
            "Epoch 11/20\n",
            "633/633 [==============================] - 62s 98ms/step - loss: 0.3493 - auc: 0.9234 - val_loss: 0.6490 - val_auc: 0.8372\n",
            "Epoch 12/20\n",
            "633/633 [==============================] - 73s 115ms/step - loss: 0.3324 - auc: 0.9301 - val_loss: 0.6443 - val_auc: 0.7842\n",
            "Epoch 13/20\n",
            "633/633 [==============================] - 67s 106ms/step - loss: 0.3234 - auc: 0.9338 - val_loss: 0.6975 - val_auc: 0.8518\n",
            "Epoch 14/20\n",
            "633/633 [==============================] - 67s 105ms/step - loss: 0.3049 - auc: 0.9409 - val_loss: 0.4960 - val_auc: 0.8365\n",
            "Epoch 15/20\n",
            "633/633 [==============================] - 68s 107ms/step - loss: 0.3018 - auc: 0.9421 - val_loss: 0.5341 - val_auc: 0.7949\n",
            "Epoch 16/20\n",
            "633/633 [==============================] - 67s 107ms/step - loss: 0.2886 - auc: 0.9466 - val_loss: 0.6241 - val_auc: 0.8083\n",
            "Epoch 17/20\n",
            "633/633 [==============================] - 66s 105ms/step - loss: 0.2779 - auc: 0.9500 - val_loss: 0.6487 - val_auc: 0.8183\n",
            "Epoch 18/20\n",
            "633/633 [==============================] - 65s 102ms/step - loss: 0.2646 - auc: 0.9543 - val_loss: 0.7052 - val_auc: 0.7805\n",
            "Epoch 19/20\n",
            "633/633 [==============================] - 64s 101ms/step - loss: 0.2609 - auc: 0.9554 - val_loss: 0.5619 - val_auc: 0.8542\n",
            "Epoch 20/20\n",
            "633/633 [==============================] - 64s 101ms/step - loss: 0.2474 - auc: 0.9595 - val_loss: 0.6502 - val_auc: 0.8030\n"
          ]
        },
        {
          "output_type": "execute_result",
          "data": {
            "text/plain": [
              "<keras.callbacks.History at 0x7f5837ee1790>"
            ]
          },
          "metadata": {},
          "execution_count": 51
        }
      ]
    },
    {
      "cell_type": "markdown",
      "source": [
        "**Predictoin And Submission**\n"
      ],
      "metadata": {
        "id": "yizqZ8Gof-4y"
      }
    },
    {
      "cell_type": "code",
      "source": [
        "#make prediction on test data by using the trained model \n",
        "y_pred_9 = model_9.predict(gen_batch(testing_set, batch_size=16, shuffle=False))\n",
        "y_pred_9 = np.reshape(y_pred_9, -1)"
      ],
      "metadata": {
        "id": "9LYrBA4zgBH9",
        "colab": {
          "base_uri": "https://localhost:8080/"
        },
        "outputId": "7950d1aa-5039-4405-ff45-d76a3085193c"
      },
      "execution_count": null,
      "outputs": [
        {
          "output_type": "stream",
          "name": "stdout",
          "text": [
            "771/771 [==============================] - 9s 10ms/step\n"
          ]
        }
      ]
    },
    {
      "cell_type": "code",
      "source": [
        "len(y_pred_9)"
      ],
      "metadata": {
        "id": "iEU9K7_TgCk5",
        "colab": {
          "base_uri": "https://localhost:8080/"
        },
        "outputId": "92aaf1c8-0613-46de-e2e5-f11029c7bff3"
      },
      "execution_count": null,
      "outputs": [
        {
          "output_type": "execute_result",
          "data": {
            "text/plain": [
              "12326"
            ]
          },
          "metadata": {},
          "execution_count": 55
        }
      ]
    },
    {
      "cell_type": "code",
      "source": [
        "submission = pd.DataFrame({'label':y_pred_9})\n",
        "submission.index.name = 'id'\n",
        "submission.to_csv('submission_trial_9.csv')"
      ],
      "metadata": {
        "id": "SIFYiUF6gD2h"
      },
      "execution_count": null,
      "outputs": []
    },
    {
      "cell_type": "markdown",
      "source": [
        "#**Trial 10 With Balanced Data**\n",
        "in this trial use \"message_calculation_class\" = 'RGCN' as the same in the third trial with the balanced data   \n",
        "\n",
        "the accurracy became 77 and 97 and if increase in the number of epochs the performance of the model will increase.\n",
        "\n",
        " *the accuracy on kaggle : 79.7%*"
      ],
      "metadata": {
        "id": "aeNpOjMngG0B"
      }
    },
    {
      "cell_type": "markdown",
      "source": [
        "**Model Structure**\n"
      ],
      "metadata": {
        "id": "1yZos-GPgMkx"
      }
    },
    {
      "cell_type": "code",
      "source": [
        "#Input layer for nodes (tokenized text data)          \n",
        "data = keras.Input(batch_shape=(None,)) \n",
        "# the first dim is different to the previous one. it is the total number of edges in this batch\n",
        "#Input layer for edge data        \n",
        "edge = keras.Input(batch_shape=(None, 2), dtype=tf.int32)   \n",
        "#Input layer for node2graph ids    \n",
        "node2graph = keras.Input(batch_shape=(None,), dtype=tf.int32) \n",
        "#embedding layer over data with each token embedded as  size vector\n",
        "embeded = Embedding(tokenizer.num_words, 50)(data)  \n",
        "\n",
        "# number of graphs (number of samples)\n",
        "#calculating number of samples (or min(batch_size,no._of_samples))  \n",
        "num_graph = tf.reduce_max(node2graph)+1  \n",
        "#gnn_input layer with inputs as defined above\n",
        "gnn_input = GNNInput(\n",
        "    node_features=embeded,\n",
        "    adjacency_lists=(edge,),\n",
        "    node_to_graph_map=node2graph, \n",
        "    num_graphs=num_graph,\n",
        ")\n",
        "#defining hyperparameters for GNN layer\n",
        "params = GNN.get_default_hyperparameters()\n",
        "#defining hidden dimension of the gnn layer\n",
        "params[\"hidden_dim\"] = 64\n",
        "#Relational Graph Convolutional Networks  \n",
        "params[\"message_calculation_class\"] = 'RGCN'\n",
        "# params[\"num_edge_MLP_hidden_layers\"] = 32\n",
        "#gnn layer with defined hyperparameters\n",
        "gnn_layer = GNN(params)  \n",
        "\n",
        "#gnn output layer \n",
        "#outpur shape: [data_dimension,hidden layers]  \n",
        "gnn_out = gnn_layer(gnn_input) \n",
        "\n",
        "print('gnn_out', gnn_out)           \n",
        "\n",
        "#calculating segmented mean based on segment_ids\n",
        "avg = segment_mean(\n",
        "    data=gnn_out,\n",
        "    segment_ids=node2graph\n",
        "    )#shape: [batch_size,64] \n",
        "\n",
        "print('mean:', avg)\n",
        "\n",
        "#final dense layer with sigmoid\n",
        "#Output [None,8]\n",
        "fc1 = Dense(8,activation='LeakyReLU')(avg) \n",
        "#output shape: [batch_size,1] \n",
        "pred = Dense(1, activation='sigmoid')(fc1)   \n",
        "print('pred:', pred)\n",
        "\n",
        "#building model \n",
        "#inputs are data,edges and node2graph\n",
        "#input: dictionary\n",
        "#output: prediction value from dense layer\n",
        "model_10 = Model(\n",
        "    inputs={\n",
        "        'data': data, \n",
        "        'edges': edge,\n",
        "        'node2grah': node2graph,\n",
        "    },\n",
        "    outputs=pred\n",
        ")\n",
        "\n",
        "#printing summary of the model\n",
        "model_10.summary()"
      ],
      "metadata": {
        "id": "mWMBf-k7gK2v",
        "colab": {
          "base_uri": "https://localhost:8080/"
        },
        "outputId": "0de725f1-48eb-488c-dac1-36459c871500"
      },
      "execution_count": null,
      "outputs": [
        {
          "output_type": "stream",
          "name": "stdout",
          "text": [
            "gnn_out KerasTensor(type_spec=TensorSpec(shape=(None, 64), dtype=tf.float32, name=None), name='gnn_11/StatefulPartitionedCall:0', description=\"created by layer 'gnn_11'\")\n",
            "mean: KerasTensor(type_spec=TensorSpec(shape=(None, 64), dtype=tf.float32, name=None), name='tf.math.segment_mean_5/SegmentMean:0', description=\"created by layer 'tf.math.segment_mean_5'\")\n",
            "pred: KerasTensor(type_spec=TensorSpec(shape=(None, 1), dtype=tf.float32, name=None), name='dense_8/Sigmoid:0', description=\"created by layer 'dense_8'\")\n",
            "Model: \"model_5\"\n",
            "__________________________________________________________________________________________________\n",
            " Layer (type)                   Output Shape         Param #     Connected to                     \n",
            "==================================================================================================\n",
            " input_36 (InputLayer)          [(None,)]            0           []                               \n",
            "                                                                                                  \n",
            " input_34 (InputLayer)          [(None,)]            0           []                               \n",
            "                                                                                                  \n",
            " tf.math.reduce_max_11 (TFOpLam  ()                  0           ['input_36[0][0]']               \n",
            " bda)                                                                                             \n",
            "                                                                                                  \n",
            " embedding_11 (Embedding)       (None, 50)           25000       ['input_34[0][0]']               \n",
            "                                                                                                  \n",
            " input_35 (InputLayer)          [(None, 2)]          0           []                               \n",
            "                                                                                                  \n",
            " tf.__operators__.add_11 (TFOpL  ()                  0           ['tf.math.reduce_max_11[0][0]']  \n",
            " ambda)                                                                                           \n",
            "                                                                                                  \n",
            " gnn_11 (GNN)                   (None, 64)           73472       ['embedding_11[0][0]',           \n",
            "                                                                  'input_35[0][0]',               \n",
            "                                                                  'input_36[0][0]',               \n",
            "                                                                  'tf.__operators__.add_11[0][0]']\n",
            "                                                                                                  \n",
            " tf.math.segment_mean_5 (TFOpLa  (None, 64)          0           ['gnn_11[0][0]',                 \n",
            " mbda)                                                            'input_36[0][0]']               \n",
            "                                                                                                  \n",
            " dense_7 (Dense)                (None, 8)            520         ['tf.math.segment_mean_5[0][0]'] \n",
            "                                                                                                  \n",
            " dense_8 (Dense)                (None, 1)            9           ['dense_7[0][0]']                \n",
            "                                                                                                  \n",
            "==================================================================================================\n",
            "Total params: 99,001\n",
            "Trainable params: 99,001\n",
            "Non-trainable params: 0\n",
            "__________________________________________________________________________________________________\n"
          ]
        }
      ]
    },
    {
      "cell_type": "markdown",
      "source": [
        "**Compile The Model**\n"
      ],
      "metadata": {
        "id": "UvMmdqxngQ8O"
      }
    },
    {
      "cell_type": "code",
      "source": [
        "model_10.compile(optimizer='adam', loss='BinaryCrossentropy', metrics=['AUC'])\n"
      ],
      "metadata": {
        "id": "umCCAGn7gPri"
      },
      "execution_count": null,
      "outputs": []
    },
    {
      "cell_type": "markdown",
      "source": [
        "**Train The Model**\n"
      ],
      "metadata": {
        "id": "Vb3__Lx-gT49"
      }
    },
    {
      "cell_type": "code",
      "source": [
        "batch_size = 32\n",
        "\n",
        "#math.ceil: returns the smallest integral value greater than the number\n",
        "#no. of batches for training data\n",
        "num_batchs = math.ceil(len(training_set) / batch_size) \n",
        "#no. of batches for validation data\n",
        "num_batchs_validation = math.ceil(len(validation_set) / batch_size) \n",
        "\n",
        "model_10.fit(gen_batch(training_set, batch_size=batch_size, repeat=True),\n",
        "    steps_per_epoch=num_batchs,\n",
        "    epochs=30,\n",
        "    validation_data=gen_batch(validation_set, batch_size=16, repeat=True),\n",
        "    validation_steps=num_batchs_validation)"
      ],
      "metadata": {
        "id": "8S7hzwHhgV0H",
        "colab": {
          "base_uri": "https://localhost:8080/"
        },
        "outputId": "c45b8d70-1270-404b-c410-1f77958fbff0"
      },
      "execution_count": null,
      "outputs": [
        {
          "output_type": "stream",
          "name": "stdout",
          "text": [
            "Epoch 1/30\n",
            "1265/1265 [==============================] - 73s 55ms/step - loss: 0.6074 - auc: 0.7314 - val_loss: 0.9273 - val_auc: 0.6059\n",
            "Epoch 2/30\n",
            "1265/1265 [==============================] - 70s 55ms/step - loss: 0.5730 - auc: 0.7708 - val_loss: 0.5676 - val_auc: 0.7866\n",
            "Epoch 3/30\n",
            "1265/1265 [==============================] - 72s 57ms/step - loss: 0.5520 - auc: 0.7907 - val_loss: 0.7058 - val_auc: 0.6948\n",
            "Epoch 4/30\n",
            "1265/1265 [==============================] - 72s 57ms/step - loss: 0.5314 - auc: 0.8106 - val_loss: 0.6674 - val_auc: 0.7742\n",
            "Epoch 5/30\n",
            "1265/1265 [==============================] - 73s 58ms/step - loss: 0.5071 - auc: 0.8310 - val_loss: 0.6894 - val_auc: 0.7502\n",
            "Epoch 6/30\n",
            "1265/1265 [==============================] - 70s 55ms/step - loss: 0.4916 - auc: 0.8432 - val_loss: 0.6114 - val_auc: 0.7962\n",
            "Epoch 7/30\n",
            "1265/1265 [==============================] - 73s 57ms/step - loss: 0.4679 - auc: 0.8592 - val_loss: 0.5468 - val_auc: 0.7795\n",
            "Epoch 8/30\n",
            "1265/1265 [==============================] - 71s 56ms/step - loss: 0.4434 - auc: 0.8754 - val_loss: 0.6237 - val_auc: 0.7711\n",
            "Epoch 9/30\n",
            "1265/1265 [==============================] - 75s 59ms/step - loss: 0.4228 - auc: 0.8878 - val_loss: 0.7625 - val_auc: 0.8092\n",
            "Epoch 10/30\n",
            "1265/1265 [==============================] - 73s 58ms/step - loss: 0.4085 - auc: 0.8957 - val_loss: 0.5951 - val_auc: 0.7931\n",
            "Epoch 11/30\n",
            "1265/1265 [==============================] - 74s 59ms/step - loss: 0.3894 - auc: 0.9056 - val_loss: 0.7468 - val_auc: 0.7579\n",
            "Epoch 12/30\n",
            "1265/1265 [==============================] - 73s 58ms/step - loss: 0.3644 - auc: 0.9172 - val_loss: 0.6144 - val_auc: 0.7854\n",
            "Epoch 13/30\n",
            "1265/1265 [==============================] - 71s 56ms/step - loss: 0.3482 - auc: 0.9246 - val_loss: 0.5148 - val_auc: 0.8024\n",
            "Epoch 14/30\n",
            "1265/1265 [==============================] - 70s 56ms/step - loss: 0.3326 - auc: 0.9310 - val_loss: 0.4395 - val_auc: 0.7754\n",
            "Epoch 15/30\n",
            "1265/1265 [==============================] - 71s 56ms/step - loss: 0.3132 - auc: 0.9382 - val_loss: 0.5182 - val_auc: 0.7803\n",
            "Epoch 16/30\n",
            "1265/1265 [==============================] - 71s 56ms/step - loss: 0.2984 - auc: 0.9436 - val_loss: 0.4712 - val_auc: 0.8131\n",
            "Epoch 17/30\n",
            "1265/1265 [==============================] - 71s 56ms/step - loss: 0.2904 - auc: 0.9465 - val_loss: 0.5522 - val_auc: 0.7794\n",
            "Epoch 18/30\n",
            "1265/1265 [==============================] - 72s 57ms/step - loss: 0.2787 - auc: 0.9504 - val_loss: 0.5742 - val_auc: 0.7839\n",
            "Epoch 19/30\n",
            "1265/1265 [==============================] - 71s 56ms/step - loss: 0.2669 - auc: 0.9539 - val_loss: 0.6672 - val_auc: 0.8039\n",
            "Epoch 20/30\n",
            "1265/1265 [==============================] - 71s 57ms/step - loss: 0.2612 - auc: 0.9561 - val_loss: 0.6471 - val_auc: 0.7848\n",
            "Epoch 21/30\n",
            "1265/1265 [==============================] - 72s 57ms/step - loss: 0.2582 - auc: 0.9568 - val_loss: 0.5303 - val_auc: 0.7664\n",
            "Epoch 22/30\n",
            "1265/1265 [==============================] - 72s 57ms/step - loss: 0.2413 - auc: 0.9619 - val_loss: 0.6564 - val_auc: 0.7522\n",
            "Epoch 23/30\n",
            "1265/1265 [==============================] - 74s 58ms/step - loss: 0.2388 - auc: 0.9623 - val_loss: 0.5874 - val_auc: 0.7806\n",
            "Epoch 24/30\n",
            "1265/1265 [==============================] - 74s 59ms/step - loss: 0.2312 - auc: 0.9646 - val_loss: 0.4470 - val_auc: 0.8002\n",
            "Epoch 25/30\n",
            "1265/1265 [==============================] - 72s 57ms/step - loss: 0.2214 - auc: 0.9673 - val_loss: 0.6151 - val_auc: 0.7748\n",
            "Epoch 26/30\n",
            "1265/1265 [==============================] - 72s 57ms/step - loss: 0.2148 - auc: 0.9691 - val_loss: 0.7015 - val_auc: 0.7510\n",
            "Epoch 27/30\n",
            "1265/1265 [==============================] - 80s 63ms/step - loss: 0.2166 - auc: 0.9687 - val_loss: 0.5693 - val_auc: 0.8037\n",
            "Epoch 28/30\n",
            "1265/1265 [==============================] - 81s 64ms/step - loss: 0.2066 - auc: 0.9711 - val_loss: 0.6027 - val_auc: 0.7610\n",
            "Epoch 29/30\n",
            "1265/1265 [==============================] - 75s 59ms/step - loss: 0.1987 - auc: 0.9732 - val_loss: 0.5599 - val_auc: 0.7886\n",
            "Epoch 30/30\n",
            "1265/1265 [==============================] - 72s 57ms/step - loss: 0.2153 - auc: 0.9702 - val_loss: 0.5809 - val_auc: 0.7773\n"
          ]
        },
        {
          "output_type": "execute_result",
          "data": {
            "text/plain": [
              "<keras.callbacks.History at 0x7f58350a9490>"
            ]
          },
          "metadata": {},
          "execution_count": 59
        }
      ]
    },
    {
      "cell_type": "markdown",
      "source": [
        "**Predictoin And Submission**"
      ],
      "metadata": {
        "id": "8GE9IVw2gYhV"
      }
    },
    {
      "cell_type": "code",
      "source": [
        "#make prediction on test data by using the trained model \n",
        "y_pred_10 = model_10.predict(gen_batch(testing_set, batch_size=16, shuffle=False))\n",
        "y_pred_10 = np.reshape(y_pred_10, -1)"
      ],
      "metadata": {
        "id": "K12_Rxw_gXbe",
        "colab": {
          "base_uri": "https://localhost:8080/"
        },
        "outputId": "d7e85c74-1c02-4c49-9911-92e30fcf5a18"
      },
      "execution_count": null,
      "outputs": [
        {
          "output_type": "stream",
          "name": "stdout",
          "text": [
            "771/771 [==============================] - 10s 12ms/step\n"
          ]
        }
      ]
    },
    {
      "cell_type": "code",
      "source": [
        "len(y_pred_10)"
      ],
      "metadata": {
        "id": "4FteNJ6igbw8",
        "colab": {
          "base_uri": "https://localhost:8080/"
        },
        "outputId": "ec213a03-d384-4ba0-86bf-938148558a99"
      },
      "execution_count": null,
      "outputs": [
        {
          "output_type": "execute_result",
          "data": {
            "text/plain": [
              "12326"
            ]
          },
          "metadata": {},
          "execution_count": 61
        }
      ]
    },
    {
      "cell_type": "code",
      "source": [
        "submission = pd.DataFrame({'label':y_pred_10})\n",
        "submission.index.name = 'id'\n",
        "submission.to_csv('submission_trial_10.csv')"
      ],
      "metadata": {
        "id": "ED6pc2RJgc29"
      },
      "execution_count": null,
      "outputs": []
    }
  ]
}